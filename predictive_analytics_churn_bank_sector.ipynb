{
  "cells": [
    {
      "cell_type": "markdown",
      "metadata": {
        "id": "VerMaYze7ERr"
      },
      "source": [
        ">About Dataset\n",
        "\n",
        "* RowNumber—corresponds to the record (row) number and has no effect on the output.\n",
        "\n",
        "* CustomerId—contains random values and has no effect on customer leaving the bank.\n",
        "\n",
        "* Surname—the surname of a customer has no impact on their decision to leave the bank.\n",
        "\n",
        "* CreditScore—can have an effect on customer churn, since a customer with a higher credit score is less likely to leave the bank.\n",
        "\n",
        "* Geography—a customer’s location can affect their decision to leave the bank.\n",
        "\n",
        "* Gender—it’s interesting to explore whether gender plays a role in a customer leaving the bank.\n",
        "\n",
        "* Age—this is certainly relevant, since older customers are less likely to leave their bank than younger ones.\n",
        "\n",
        "* Tenure—refers to the number of years that the customer has been a client of the bank. Normally, older clients are more loyal and less likely to leave a bank.\n",
        "* Balance—also a very good indicator of customer churn, as people with a higher balance in their accounts are less likely to leave the bank compared to those with lower balances.\n",
        "* NumOfProducts—refers to the number of products that a customer has purchased through the bank.\n",
        "* HasCrCard—denotes whether or not a customer has a credit card. This column is also relevant, since people with a credit card are less likely to leave the bank.\n",
        "* IsActiveMember—active customers are less likely to leave the bank.\n",
        "* EstimatedSalary—as with balance, people with lower salaries are more likely to leave the bank compared to those with higher salaries.\n",
        "* Exited—whether or not the customer left the bank."
      ]
    },
    {
      "cell_type": "markdown",
      "source": [
        " Import all the necessary libraries needed for analysis and modelling.\n"
      ],
      "metadata": {
        "id": "G5umL3PuhfMH"
      }
    },
    {
      "cell_type": "code",
      "execution_count": 1,
      "metadata": {
        "id": "iXSoR8AyooEr"
      },
      "outputs": [],
      "source": [
        "import numpy as np \n",
        "import pandas as pd\n",
        "import matplotlib.pyplot as plt\n",
        "import seaborn as sns \n",
        "%matplotlib inline \n",
        "\n",
        "\n",
        "from sklearn.linear_model import LogisticRegression\n",
        "from sklearn.neighbors import KNeighborsClassifier\n",
        "from sklearn.tree import DecisionTreeClassifier\n",
        "from sklearn.ensemble import RandomForestClassifier\n",
        "from sklearn.ensemble import GradientBoostingClassifier\n",
        "from sklearn import svm\n",
        "from sklearn.metrics import confusion_matrix, ConfusionMatrixDisplay\n",
        "from sklearn.metrics import plot_confusion_matrix\n",
        "\n",
        "from sklearn.model_selection import train_test_split, cross_val_score\n",
        "from sklearn.metrics import confusion_matrix, classification_report\n",
        "from sklearn.metrics import precision_score, recall_score, f1_score\n",
        "from sklearn.metrics import accuracy_score\n",
        "from sklearn.metrics import roc_auc_score"
      ]
    },
    {
      "cell_type": "markdown",
      "source": [
        "Read data using pandas library. we can see the data has 14 features.\n",
        "We use .head() function to view the first 5 columns.\n"
      ],
      "metadata": {
        "id": "SdPI1C8ChlRx"
      }
    },
    {
      "cell_type": "code",
      "execution_count": 2,
      "metadata": {
        "colab": {
          "base_uri": "https://localhost:8080/",
          "height": 270
        },
        "id": "JIqAo06opWI6",
        "outputId": "b36194c6-46ac-4b64-a7ce-c57290ac64d8"
      },
      "outputs": [
        {
          "output_type": "execute_result",
          "data": {
            "text/plain": [
              "   RowNumber  CustomerId   Surname  CreditScore Geography  Gender  Age  \\\n",
              "0          1    15634602  Hargrave          619    France  Female   42   \n",
              "1          2    15647311      Hill          608     Spain  Female   41   \n",
              "2          3    15619304      Onio          502    France  Female   42   \n",
              "3          4    15701354      Boni          699    France  Female   39   \n",
              "4          5    15737888  Mitchell          850     Spain  Female   43   \n",
              "\n",
              "   Tenure    Balance  NumOfProducts  HasCrCard  IsActiveMember  \\\n",
              "0       2       0.00              1          1               1   \n",
              "1       1   83807.86              1          0               1   \n",
              "2       8  159660.80              3          1               0   \n",
              "3       1       0.00              2          0               0   \n",
              "4       2  125510.82              1          1               1   \n",
              "\n",
              "   EstimatedSalary  Exited  \n",
              "0        101348.88       1  \n",
              "1        112542.58       0  \n",
              "2        113931.57       1  \n",
              "3         93826.63       0  \n",
              "4         79084.10       0  "
            ],
            "text/html": [
              "\n",
              "  <div id=\"df-84172e2e-4153-442a-a449-a863620ffa0e\">\n",
              "    <div class=\"colab-df-container\">\n",
              "      <div>\n",
              "<style scoped>\n",
              "    .dataframe tbody tr th:only-of-type {\n",
              "        vertical-align: middle;\n",
              "    }\n",
              "\n",
              "    .dataframe tbody tr th {\n",
              "        vertical-align: top;\n",
              "    }\n",
              "\n",
              "    .dataframe thead th {\n",
              "        text-align: right;\n",
              "    }\n",
              "</style>\n",
              "<table border=\"1\" class=\"dataframe\">\n",
              "  <thead>\n",
              "    <tr style=\"text-align: right;\">\n",
              "      <th></th>\n",
              "      <th>RowNumber</th>\n",
              "      <th>CustomerId</th>\n",
              "      <th>Surname</th>\n",
              "      <th>CreditScore</th>\n",
              "      <th>Geography</th>\n",
              "      <th>Gender</th>\n",
              "      <th>Age</th>\n",
              "      <th>Tenure</th>\n",
              "      <th>Balance</th>\n",
              "      <th>NumOfProducts</th>\n",
              "      <th>HasCrCard</th>\n",
              "      <th>IsActiveMember</th>\n",
              "      <th>EstimatedSalary</th>\n",
              "      <th>Exited</th>\n",
              "    </tr>\n",
              "  </thead>\n",
              "  <tbody>\n",
              "    <tr>\n",
              "      <th>0</th>\n",
              "      <td>1</td>\n",
              "      <td>15634602</td>\n",
              "      <td>Hargrave</td>\n",
              "      <td>619</td>\n",
              "      <td>France</td>\n",
              "      <td>Female</td>\n",
              "      <td>42</td>\n",
              "      <td>2</td>\n",
              "      <td>0.00</td>\n",
              "      <td>1</td>\n",
              "      <td>1</td>\n",
              "      <td>1</td>\n",
              "      <td>101348.88</td>\n",
              "      <td>1</td>\n",
              "    </tr>\n",
              "    <tr>\n",
              "      <th>1</th>\n",
              "      <td>2</td>\n",
              "      <td>15647311</td>\n",
              "      <td>Hill</td>\n",
              "      <td>608</td>\n",
              "      <td>Spain</td>\n",
              "      <td>Female</td>\n",
              "      <td>41</td>\n",
              "      <td>1</td>\n",
              "      <td>83807.86</td>\n",
              "      <td>1</td>\n",
              "      <td>0</td>\n",
              "      <td>1</td>\n",
              "      <td>112542.58</td>\n",
              "      <td>0</td>\n",
              "    </tr>\n",
              "    <tr>\n",
              "      <th>2</th>\n",
              "      <td>3</td>\n",
              "      <td>15619304</td>\n",
              "      <td>Onio</td>\n",
              "      <td>502</td>\n",
              "      <td>France</td>\n",
              "      <td>Female</td>\n",
              "      <td>42</td>\n",
              "      <td>8</td>\n",
              "      <td>159660.80</td>\n",
              "      <td>3</td>\n",
              "      <td>1</td>\n",
              "      <td>0</td>\n",
              "      <td>113931.57</td>\n",
              "      <td>1</td>\n",
              "    </tr>\n",
              "    <tr>\n",
              "      <th>3</th>\n",
              "      <td>4</td>\n",
              "      <td>15701354</td>\n",
              "      <td>Boni</td>\n",
              "      <td>699</td>\n",
              "      <td>France</td>\n",
              "      <td>Female</td>\n",
              "      <td>39</td>\n",
              "      <td>1</td>\n",
              "      <td>0.00</td>\n",
              "      <td>2</td>\n",
              "      <td>0</td>\n",
              "      <td>0</td>\n",
              "      <td>93826.63</td>\n",
              "      <td>0</td>\n",
              "    </tr>\n",
              "    <tr>\n",
              "      <th>4</th>\n",
              "      <td>5</td>\n",
              "      <td>15737888</td>\n",
              "      <td>Mitchell</td>\n",
              "      <td>850</td>\n",
              "      <td>Spain</td>\n",
              "      <td>Female</td>\n",
              "      <td>43</td>\n",
              "      <td>2</td>\n",
              "      <td>125510.82</td>\n",
              "      <td>1</td>\n",
              "      <td>1</td>\n",
              "      <td>1</td>\n",
              "      <td>79084.10</td>\n",
              "      <td>0</td>\n",
              "    </tr>\n",
              "  </tbody>\n",
              "</table>\n",
              "</div>\n",
              "      <button class=\"colab-df-convert\" onclick=\"convertToInteractive('df-84172e2e-4153-442a-a449-a863620ffa0e')\"\n",
              "              title=\"Convert this dataframe to an interactive table.\"\n",
              "              style=\"display:none;\">\n",
              "        \n",
              "  <svg xmlns=\"http://www.w3.org/2000/svg\" height=\"24px\"viewBox=\"0 0 24 24\"\n",
              "       width=\"24px\">\n",
              "    <path d=\"M0 0h24v24H0V0z\" fill=\"none\"/>\n",
              "    <path d=\"M18.56 5.44l.94 2.06.94-2.06 2.06-.94-2.06-.94-.94-2.06-.94 2.06-2.06.94zm-11 1L8.5 8.5l.94-2.06 2.06-.94-2.06-.94L8.5 2.5l-.94 2.06-2.06.94zm10 10l.94 2.06.94-2.06 2.06-.94-2.06-.94-.94-2.06-.94 2.06-2.06.94z\"/><path d=\"M17.41 7.96l-1.37-1.37c-.4-.4-.92-.59-1.43-.59-.52 0-1.04.2-1.43.59L10.3 9.45l-7.72 7.72c-.78.78-.78 2.05 0 2.83L4 21.41c.39.39.9.59 1.41.59.51 0 1.02-.2 1.41-.59l7.78-7.78 2.81-2.81c.8-.78.8-2.07 0-2.86zM5.41 20L4 18.59l7.72-7.72 1.47 1.35L5.41 20z\"/>\n",
              "  </svg>\n",
              "      </button>\n",
              "      \n",
              "  <style>\n",
              "    .colab-df-container {\n",
              "      display:flex;\n",
              "      flex-wrap:wrap;\n",
              "      gap: 12px;\n",
              "    }\n",
              "\n",
              "    .colab-df-convert {\n",
              "      background-color: #E8F0FE;\n",
              "      border: none;\n",
              "      border-radius: 50%;\n",
              "      cursor: pointer;\n",
              "      display: none;\n",
              "      fill: #1967D2;\n",
              "      height: 32px;\n",
              "      padding: 0 0 0 0;\n",
              "      width: 32px;\n",
              "    }\n",
              "\n",
              "    .colab-df-convert:hover {\n",
              "      background-color: #E2EBFA;\n",
              "      box-shadow: 0px 1px 2px rgba(60, 64, 67, 0.3), 0px 1px 3px 1px rgba(60, 64, 67, 0.15);\n",
              "      fill: #174EA6;\n",
              "    }\n",
              "\n",
              "    [theme=dark] .colab-df-convert {\n",
              "      background-color: #3B4455;\n",
              "      fill: #D2E3FC;\n",
              "    }\n",
              "\n",
              "    [theme=dark] .colab-df-convert:hover {\n",
              "      background-color: #434B5C;\n",
              "      box-shadow: 0px 1px 3px 1px rgba(0, 0, 0, 0.15);\n",
              "      filter: drop-shadow(0px 1px 2px rgba(0, 0, 0, 0.3));\n",
              "      fill: #FFFFFF;\n",
              "    }\n",
              "  </style>\n",
              "\n",
              "      <script>\n",
              "        const buttonEl =\n",
              "          document.querySelector('#df-84172e2e-4153-442a-a449-a863620ffa0e button.colab-df-convert');\n",
              "        buttonEl.style.display =\n",
              "          google.colab.kernel.accessAllowed ? 'block' : 'none';\n",
              "\n",
              "        async function convertToInteractive(key) {\n",
              "          const element = document.querySelector('#df-84172e2e-4153-442a-a449-a863620ffa0e');\n",
              "          const dataTable =\n",
              "            await google.colab.kernel.invokeFunction('convertToInteractive',\n",
              "                                                     [key], {});\n",
              "          if (!dataTable) return;\n",
              "\n",
              "          const docLinkHtml = 'Like what you see? Visit the ' +\n",
              "            '<a target=\"_blank\" href=https://colab.research.google.com/notebooks/data_table.ipynb>data table notebook</a>'\n",
              "            + ' to learn more about interactive tables.';\n",
              "          element.innerHTML = '';\n",
              "          dataTable['output_type'] = 'display_data';\n",
              "          await google.colab.output.renderOutput(dataTable, element);\n",
              "          const docLink = document.createElement('div');\n",
              "          docLink.innerHTML = docLinkHtml;\n",
              "          element.appendChild(docLink);\n",
              "        }\n",
              "      </script>\n",
              "    </div>\n",
              "  </div>\n",
              "  "
            ]
          },
          "metadata": {},
          "execution_count": 2
        }
      ],
      "source": [
        "df = pd.read_csv('churn.csv')\n",
        "df.head()"
      ]
    },
    {
      "cell_type": "markdown",
      "source": [
        "The .info() function is used to print a concise summary of a DataFrame. This method prints information about a DataFrame. "
      ],
      "metadata": {
        "id": "eIRrrrcqh9f6"
      }
    },
    {
      "cell_type": "code",
      "execution_count": 3,
      "metadata": {
        "colab": {
          "base_uri": "https://localhost:8080/"
        },
        "id": "uR8sHb0lwW9o",
        "outputId": "58b7f6df-4fe1-4557-acc4-7bfb66dbf5fb"
      },
      "outputs": [
        {
          "output_type": "stream",
          "name": "stdout",
          "text": [
            "<class 'pandas.core.frame.DataFrame'>\n",
            "RangeIndex: 10000 entries, 0 to 9999\n",
            "Data columns (total 14 columns):\n",
            " #   Column           Non-Null Count  Dtype  \n",
            "---  ------           --------------  -----  \n",
            " 0   RowNumber        10000 non-null  int64  \n",
            " 1   CustomerId       10000 non-null  int64  \n",
            " 2   Surname          10000 non-null  object \n",
            " 3   CreditScore      10000 non-null  int64  \n",
            " 4   Geography        10000 non-null  object \n",
            " 5   Gender           10000 non-null  object \n",
            " 6   Age              10000 non-null  int64  \n",
            " 7   Tenure           10000 non-null  int64  \n",
            " 8   Balance          10000 non-null  float64\n",
            " 9   NumOfProducts    10000 non-null  int64  \n",
            " 10  HasCrCard        10000 non-null  int64  \n",
            " 11  IsActiveMember   10000 non-null  int64  \n",
            " 12  EstimatedSalary  10000 non-null  float64\n",
            " 13  Exited           10000 non-null  int64  \n",
            "dtypes: float64(2), int64(9), object(3)\n",
            "memory usage: 1.1+ MB\n"
          ]
        }
      ],
      "source": [
        "df.info()"
      ]
    },
    {
      "cell_type": "markdown",
      "source": [
        ".describe().T is methode to know the statistical overview from the data"
      ],
      "metadata": {
        "id": "blkCSXb5i2Z7"
      }
    },
    {
      "cell_type": "code",
      "execution_count": 4,
      "metadata": {
        "colab": {
          "base_uri": "https://localhost:8080/",
          "height": 394
        },
        "id": "u25TsPd3wZ7-",
        "outputId": "a8657d79-25ed-457d-d955-85210c02d0c6"
      },
      "outputs": [
        {
          "output_type": "execute_result",
          "data": {
            "text/plain": [
              "                   count          mean           std          min  \\\n",
              "RowNumber        10000.0  5.000500e+03   2886.895680         1.00   \n",
              "CustomerId       10000.0  1.569094e+07  71936.186123  15565701.00   \n",
              "CreditScore      10000.0  6.505288e+02     96.653299       350.00   \n",
              "Age              10000.0  3.892180e+01     10.487806        18.00   \n",
              "Tenure           10000.0  5.012800e+00      2.892174         0.00   \n",
              "Balance          10000.0  7.648589e+04  62397.405202         0.00   \n",
              "NumOfProducts    10000.0  1.530200e+00      0.581654         1.00   \n",
              "HasCrCard        10000.0  7.055000e-01      0.455840         0.00   \n",
              "IsActiveMember   10000.0  5.151000e-01      0.499797         0.00   \n",
              "EstimatedSalary  10000.0  1.000902e+05  57510.492818        11.58   \n",
              "Exited           10000.0  2.037000e-01      0.402769         0.00   \n",
              "\n",
              "                         25%           50%           75%          max  \n",
              "RowNumber            2500.75  5.000500e+03  7.500250e+03     10000.00  \n",
              "CustomerId       15628528.25  1.569074e+07  1.575323e+07  15815690.00  \n",
              "CreditScore           584.00  6.520000e+02  7.180000e+02       850.00  \n",
              "Age                    32.00  3.700000e+01  4.400000e+01        92.00  \n",
              "Tenure                  3.00  5.000000e+00  7.000000e+00        10.00  \n",
              "Balance                 0.00  9.719854e+04  1.276442e+05    250898.09  \n",
              "NumOfProducts           1.00  1.000000e+00  2.000000e+00         4.00  \n",
              "HasCrCard               0.00  1.000000e+00  1.000000e+00         1.00  \n",
              "IsActiveMember          0.00  1.000000e+00  1.000000e+00         1.00  \n",
              "EstimatedSalary     51002.11  1.001939e+05  1.493882e+05    199992.48  \n",
              "Exited                  0.00  0.000000e+00  0.000000e+00         1.00  "
            ],
            "text/html": [
              "\n",
              "  <div id=\"df-c6f198b5-d254-451c-a7b2-b9763715061e\">\n",
              "    <div class=\"colab-df-container\">\n",
              "      <div>\n",
              "<style scoped>\n",
              "    .dataframe tbody tr th:only-of-type {\n",
              "        vertical-align: middle;\n",
              "    }\n",
              "\n",
              "    .dataframe tbody tr th {\n",
              "        vertical-align: top;\n",
              "    }\n",
              "\n",
              "    .dataframe thead th {\n",
              "        text-align: right;\n",
              "    }\n",
              "</style>\n",
              "<table border=\"1\" class=\"dataframe\">\n",
              "  <thead>\n",
              "    <tr style=\"text-align: right;\">\n",
              "      <th></th>\n",
              "      <th>count</th>\n",
              "      <th>mean</th>\n",
              "      <th>std</th>\n",
              "      <th>min</th>\n",
              "      <th>25%</th>\n",
              "      <th>50%</th>\n",
              "      <th>75%</th>\n",
              "      <th>max</th>\n",
              "    </tr>\n",
              "  </thead>\n",
              "  <tbody>\n",
              "    <tr>\n",
              "      <th>RowNumber</th>\n",
              "      <td>10000.0</td>\n",
              "      <td>5.000500e+03</td>\n",
              "      <td>2886.895680</td>\n",
              "      <td>1.00</td>\n",
              "      <td>2500.75</td>\n",
              "      <td>5.000500e+03</td>\n",
              "      <td>7.500250e+03</td>\n",
              "      <td>10000.00</td>\n",
              "    </tr>\n",
              "    <tr>\n",
              "      <th>CustomerId</th>\n",
              "      <td>10000.0</td>\n",
              "      <td>1.569094e+07</td>\n",
              "      <td>71936.186123</td>\n",
              "      <td>15565701.00</td>\n",
              "      <td>15628528.25</td>\n",
              "      <td>1.569074e+07</td>\n",
              "      <td>1.575323e+07</td>\n",
              "      <td>15815690.00</td>\n",
              "    </tr>\n",
              "    <tr>\n",
              "      <th>CreditScore</th>\n",
              "      <td>10000.0</td>\n",
              "      <td>6.505288e+02</td>\n",
              "      <td>96.653299</td>\n",
              "      <td>350.00</td>\n",
              "      <td>584.00</td>\n",
              "      <td>6.520000e+02</td>\n",
              "      <td>7.180000e+02</td>\n",
              "      <td>850.00</td>\n",
              "    </tr>\n",
              "    <tr>\n",
              "      <th>Age</th>\n",
              "      <td>10000.0</td>\n",
              "      <td>3.892180e+01</td>\n",
              "      <td>10.487806</td>\n",
              "      <td>18.00</td>\n",
              "      <td>32.00</td>\n",
              "      <td>3.700000e+01</td>\n",
              "      <td>4.400000e+01</td>\n",
              "      <td>92.00</td>\n",
              "    </tr>\n",
              "    <tr>\n",
              "      <th>Tenure</th>\n",
              "      <td>10000.0</td>\n",
              "      <td>5.012800e+00</td>\n",
              "      <td>2.892174</td>\n",
              "      <td>0.00</td>\n",
              "      <td>3.00</td>\n",
              "      <td>5.000000e+00</td>\n",
              "      <td>7.000000e+00</td>\n",
              "      <td>10.00</td>\n",
              "    </tr>\n",
              "    <tr>\n",
              "      <th>Balance</th>\n",
              "      <td>10000.0</td>\n",
              "      <td>7.648589e+04</td>\n",
              "      <td>62397.405202</td>\n",
              "      <td>0.00</td>\n",
              "      <td>0.00</td>\n",
              "      <td>9.719854e+04</td>\n",
              "      <td>1.276442e+05</td>\n",
              "      <td>250898.09</td>\n",
              "    </tr>\n",
              "    <tr>\n",
              "      <th>NumOfProducts</th>\n",
              "      <td>10000.0</td>\n",
              "      <td>1.530200e+00</td>\n",
              "      <td>0.581654</td>\n",
              "      <td>1.00</td>\n",
              "      <td>1.00</td>\n",
              "      <td>1.000000e+00</td>\n",
              "      <td>2.000000e+00</td>\n",
              "      <td>4.00</td>\n",
              "    </tr>\n",
              "    <tr>\n",
              "      <th>HasCrCard</th>\n",
              "      <td>10000.0</td>\n",
              "      <td>7.055000e-01</td>\n",
              "      <td>0.455840</td>\n",
              "      <td>0.00</td>\n",
              "      <td>0.00</td>\n",
              "      <td>1.000000e+00</td>\n",
              "      <td>1.000000e+00</td>\n",
              "      <td>1.00</td>\n",
              "    </tr>\n",
              "    <tr>\n",
              "      <th>IsActiveMember</th>\n",
              "      <td>10000.0</td>\n",
              "      <td>5.151000e-01</td>\n",
              "      <td>0.499797</td>\n",
              "      <td>0.00</td>\n",
              "      <td>0.00</td>\n",
              "      <td>1.000000e+00</td>\n",
              "      <td>1.000000e+00</td>\n",
              "      <td>1.00</td>\n",
              "    </tr>\n",
              "    <tr>\n",
              "      <th>EstimatedSalary</th>\n",
              "      <td>10000.0</td>\n",
              "      <td>1.000902e+05</td>\n",
              "      <td>57510.492818</td>\n",
              "      <td>11.58</td>\n",
              "      <td>51002.11</td>\n",
              "      <td>1.001939e+05</td>\n",
              "      <td>1.493882e+05</td>\n",
              "      <td>199992.48</td>\n",
              "    </tr>\n",
              "    <tr>\n",
              "      <th>Exited</th>\n",
              "      <td>10000.0</td>\n",
              "      <td>2.037000e-01</td>\n",
              "      <td>0.402769</td>\n",
              "      <td>0.00</td>\n",
              "      <td>0.00</td>\n",
              "      <td>0.000000e+00</td>\n",
              "      <td>0.000000e+00</td>\n",
              "      <td>1.00</td>\n",
              "    </tr>\n",
              "  </tbody>\n",
              "</table>\n",
              "</div>\n",
              "      <button class=\"colab-df-convert\" onclick=\"convertToInteractive('df-c6f198b5-d254-451c-a7b2-b9763715061e')\"\n",
              "              title=\"Convert this dataframe to an interactive table.\"\n",
              "              style=\"display:none;\">\n",
              "        \n",
              "  <svg xmlns=\"http://www.w3.org/2000/svg\" height=\"24px\"viewBox=\"0 0 24 24\"\n",
              "       width=\"24px\">\n",
              "    <path d=\"M0 0h24v24H0V0z\" fill=\"none\"/>\n",
              "    <path d=\"M18.56 5.44l.94 2.06.94-2.06 2.06-.94-2.06-.94-.94-2.06-.94 2.06-2.06.94zm-11 1L8.5 8.5l.94-2.06 2.06-.94-2.06-.94L8.5 2.5l-.94 2.06-2.06.94zm10 10l.94 2.06.94-2.06 2.06-.94-2.06-.94-.94-2.06-.94 2.06-2.06.94z\"/><path d=\"M17.41 7.96l-1.37-1.37c-.4-.4-.92-.59-1.43-.59-.52 0-1.04.2-1.43.59L10.3 9.45l-7.72 7.72c-.78.78-.78 2.05 0 2.83L4 21.41c.39.39.9.59 1.41.59.51 0 1.02-.2 1.41-.59l7.78-7.78 2.81-2.81c.8-.78.8-2.07 0-2.86zM5.41 20L4 18.59l7.72-7.72 1.47 1.35L5.41 20z\"/>\n",
              "  </svg>\n",
              "      </button>\n",
              "      \n",
              "  <style>\n",
              "    .colab-df-container {\n",
              "      display:flex;\n",
              "      flex-wrap:wrap;\n",
              "      gap: 12px;\n",
              "    }\n",
              "\n",
              "    .colab-df-convert {\n",
              "      background-color: #E8F0FE;\n",
              "      border: none;\n",
              "      border-radius: 50%;\n",
              "      cursor: pointer;\n",
              "      display: none;\n",
              "      fill: #1967D2;\n",
              "      height: 32px;\n",
              "      padding: 0 0 0 0;\n",
              "      width: 32px;\n",
              "    }\n",
              "\n",
              "    .colab-df-convert:hover {\n",
              "      background-color: #E2EBFA;\n",
              "      box-shadow: 0px 1px 2px rgba(60, 64, 67, 0.3), 0px 1px 3px 1px rgba(60, 64, 67, 0.15);\n",
              "      fill: #174EA6;\n",
              "    }\n",
              "\n",
              "    [theme=dark] .colab-df-convert {\n",
              "      background-color: #3B4455;\n",
              "      fill: #D2E3FC;\n",
              "    }\n",
              "\n",
              "    [theme=dark] .colab-df-convert:hover {\n",
              "      background-color: #434B5C;\n",
              "      box-shadow: 0px 1px 3px 1px rgba(0, 0, 0, 0.15);\n",
              "      filter: drop-shadow(0px 1px 2px rgba(0, 0, 0, 0.3));\n",
              "      fill: #FFFFFF;\n",
              "    }\n",
              "  </style>\n",
              "\n",
              "      <script>\n",
              "        const buttonEl =\n",
              "          document.querySelector('#df-c6f198b5-d254-451c-a7b2-b9763715061e button.colab-df-convert');\n",
              "        buttonEl.style.display =\n",
              "          google.colab.kernel.accessAllowed ? 'block' : 'none';\n",
              "\n",
              "        async function convertToInteractive(key) {\n",
              "          const element = document.querySelector('#df-c6f198b5-d254-451c-a7b2-b9763715061e');\n",
              "          const dataTable =\n",
              "            await google.colab.kernel.invokeFunction('convertToInteractive',\n",
              "                                                     [key], {});\n",
              "          if (!dataTable) return;\n",
              "\n",
              "          const docLinkHtml = 'Like what you see? Visit the ' +\n",
              "            '<a target=\"_blank\" href=https://colab.research.google.com/notebooks/data_table.ipynb>data table notebook</a>'\n",
              "            + ' to learn more about interactive tables.';\n",
              "          element.innerHTML = '';\n",
              "          dataTable['output_type'] = 'display_data';\n",
              "          await google.colab.output.renderOutput(dataTable, element);\n",
              "          const docLink = document.createElement('div');\n",
              "          docLink.innerHTML = docLinkHtml;\n",
              "          element.appendChild(docLink);\n",
              "        }\n",
              "      </script>\n",
              "    </div>\n",
              "  </div>\n",
              "  "
            ]
          },
          "metadata": {},
          "execution_count": 4
        }
      ],
      "source": [
        "df.describe().T"
      ]
    },
    {
      "cell_type": "markdown",
      "source": [
        " The data has 10000 rows and 14 columns"
      ],
      "metadata": {
        "id": "op3O09zSjGKo"
      }
    },
    {
      "cell_type": "code",
      "execution_count": 5,
      "metadata": {
        "colab": {
          "base_uri": "https://localhost:8080/"
        },
        "id": "AV75q7MGwdD-",
        "outputId": "c7580d5e-e2e3-4fbe-c409-5cfb89360ad7"
      },
      "outputs": [
        {
          "output_type": "execute_result",
          "data": {
            "text/plain": [
              "(10000, 14)"
            ]
          },
          "metadata": {},
          "execution_count": 5
        }
      ],
      "source": [
        "df.shape"
      ]
    },
    {
      "cell_type": "markdown",
      "source": [
        "This methode is used to check the null data from each column. there are no missing value from this dataset. "
      ],
      "metadata": {
        "id": "73bBvfvpj4j6"
      }
    },
    {
      "cell_type": "code",
      "execution_count": 6,
      "metadata": {
        "colab": {
          "base_uri": "https://localhost:8080/"
        },
        "id": "E3tGCzZxwfVP",
        "outputId": "8ba3fd23-bd9d-451f-a3a5-cb7c6eeb00b6"
      },
      "outputs": [
        {
          "output_type": "execute_result",
          "data": {
            "text/plain": [
              "RowNumber          0\n",
              "CustomerId         0\n",
              "Surname            0\n",
              "CreditScore        0\n",
              "Geography          0\n",
              "Gender             0\n",
              "Age                0\n",
              "Tenure             0\n",
              "Balance            0\n",
              "NumOfProducts      0\n",
              "HasCrCard          0\n",
              "IsActiveMember     0\n",
              "EstimatedSalary    0\n",
              "Exited             0\n",
              "dtype: int64"
            ]
          },
          "metadata": {},
          "execution_count": 6
        }
      ],
      "source": [
        "df.isnull().sum()"
      ]
    },
    {
      "cell_type": "markdown",
      "source": [
        ".dtypes: return the dtypes in the DataFrame from each column."
      ],
      "metadata": {
        "id": "22U8XjMKk-aj"
      }
    },
    {
      "cell_type": "code",
      "execution_count": 7,
      "metadata": {
        "colab": {
          "base_uri": "https://localhost:8080/"
        },
        "id": "tyHgmP1w2Ou_",
        "outputId": "620f0483-9d74-44a3-b227-0887d73f5f93"
      },
      "outputs": [
        {
          "output_type": "execute_result",
          "data": {
            "text/plain": [
              "RowNumber            int64\n",
              "CustomerId           int64\n",
              "Surname             object\n",
              "CreditScore          int64\n",
              "Geography           object\n",
              "Gender              object\n",
              "Age                  int64\n",
              "Tenure               int64\n",
              "Balance            float64\n",
              "NumOfProducts        int64\n",
              "HasCrCard            int64\n",
              "IsActiveMember       int64\n",
              "EstimatedSalary    float64\n",
              "Exited               int64\n",
              "dtype: object"
            ]
          },
          "metadata": {},
          "execution_count": 7
        }
      ],
      "source": [
        "df.dtypes"
      ]
    },
    {
      "cell_type": "code",
      "execution_count": 8,
      "metadata": {
        "colab": {
          "base_uri": "https://localhost:8080/"
        },
        "id": "kkbT4SqvHDK2",
        "outputId": "c7f28348-4d17-4008-ab82-2615eac1ea93"
      },
      "outputs": [
        {
          "output_type": "execute_result",
          "data": {
            "text/plain": [
              "Index(['RowNumber', 'CustomerId', 'Surname', 'CreditScore', 'Geography',\n",
              "       'Gender', 'Age', 'Tenure', 'Balance', 'NumOfProducts', 'HasCrCard',\n",
              "       'IsActiveMember', 'EstimatedSalary', 'Exited'],\n",
              "      dtype='object')"
            ]
          },
          "metadata": {},
          "execution_count": 8
        }
      ],
      "source": [
        "df.columns"
      ]
    },
    {
      "cell_type": "markdown",
      "source": [
        "Since \"RowNumber,\" \"CustomerId,\" and \"Surname\" columns are not required in this analysis project because they have no bearing on the issue to be solved. We can eliminate that column using .drop method with the parameter inplace=True to  modified in place, which means it will return nothing and the dataframe is now updated.\n"
      ],
      "metadata": {
        "id": "MPG_tf13ldAB"
      }
    },
    {
      "cell_type": "code",
      "execution_count": 9,
      "metadata": {
        "id": "wOOmx3QHHD3v"
      },
      "outputs": [],
      "source": [
        "df.drop(['RowNumber', 'CustomerId', 'Surname'], axis=1, inplace=True)\n"
      ]
    },
    {
      "cell_type": "code",
      "execution_count": 10,
      "metadata": {
        "colab": {
          "base_uri": "https://localhost:8080/",
          "height": 206
        },
        "id": "ze7Q8VNyHDzU",
        "outputId": "d4902dee-e87c-4181-a6d9-849cdbdec220"
      },
      "outputs": [
        {
          "output_type": "execute_result",
          "data": {
            "text/plain": [
              "   CreditScore Geography  Gender  Age  Tenure    Balance  NumOfProducts  \\\n",
              "0          619    France  Female   42       2       0.00              1   \n",
              "1          608     Spain  Female   41       1   83807.86              1   \n",
              "2          502    France  Female   42       8  159660.80              3   \n",
              "3          699    France  Female   39       1       0.00              2   \n",
              "4          850     Spain  Female   43       2  125510.82              1   \n",
              "\n",
              "   HasCrCard  IsActiveMember  EstimatedSalary  Exited  \n",
              "0          1               1        101348.88       1  \n",
              "1          0               1        112542.58       0  \n",
              "2          1               0        113931.57       1  \n",
              "3          0               0         93826.63       0  \n",
              "4          1               1         79084.10       0  "
            ],
            "text/html": [
              "\n",
              "  <div id=\"df-27b232d7-ce2f-4a3d-9a68-bea855c134ce\">\n",
              "    <div class=\"colab-df-container\">\n",
              "      <div>\n",
              "<style scoped>\n",
              "    .dataframe tbody tr th:only-of-type {\n",
              "        vertical-align: middle;\n",
              "    }\n",
              "\n",
              "    .dataframe tbody tr th {\n",
              "        vertical-align: top;\n",
              "    }\n",
              "\n",
              "    .dataframe thead th {\n",
              "        text-align: right;\n",
              "    }\n",
              "</style>\n",
              "<table border=\"1\" class=\"dataframe\">\n",
              "  <thead>\n",
              "    <tr style=\"text-align: right;\">\n",
              "      <th></th>\n",
              "      <th>CreditScore</th>\n",
              "      <th>Geography</th>\n",
              "      <th>Gender</th>\n",
              "      <th>Age</th>\n",
              "      <th>Tenure</th>\n",
              "      <th>Balance</th>\n",
              "      <th>NumOfProducts</th>\n",
              "      <th>HasCrCard</th>\n",
              "      <th>IsActiveMember</th>\n",
              "      <th>EstimatedSalary</th>\n",
              "      <th>Exited</th>\n",
              "    </tr>\n",
              "  </thead>\n",
              "  <tbody>\n",
              "    <tr>\n",
              "      <th>0</th>\n",
              "      <td>619</td>\n",
              "      <td>France</td>\n",
              "      <td>Female</td>\n",
              "      <td>42</td>\n",
              "      <td>2</td>\n",
              "      <td>0.00</td>\n",
              "      <td>1</td>\n",
              "      <td>1</td>\n",
              "      <td>1</td>\n",
              "      <td>101348.88</td>\n",
              "      <td>1</td>\n",
              "    </tr>\n",
              "    <tr>\n",
              "      <th>1</th>\n",
              "      <td>608</td>\n",
              "      <td>Spain</td>\n",
              "      <td>Female</td>\n",
              "      <td>41</td>\n",
              "      <td>1</td>\n",
              "      <td>83807.86</td>\n",
              "      <td>1</td>\n",
              "      <td>0</td>\n",
              "      <td>1</td>\n",
              "      <td>112542.58</td>\n",
              "      <td>0</td>\n",
              "    </tr>\n",
              "    <tr>\n",
              "      <th>2</th>\n",
              "      <td>502</td>\n",
              "      <td>France</td>\n",
              "      <td>Female</td>\n",
              "      <td>42</td>\n",
              "      <td>8</td>\n",
              "      <td>159660.80</td>\n",
              "      <td>3</td>\n",
              "      <td>1</td>\n",
              "      <td>0</td>\n",
              "      <td>113931.57</td>\n",
              "      <td>1</td>\n",
              "    </tr>\n",
              "    <tr>\n",
              "      <th>3</th>\n",
              "      <td>699</td>\n",
              "      <td>France</td>\n",
              "      <td>Female</td>\n",
              "      <td>39</td>\n",
              "      <td>1</td>\n",
              "      <td>0.00</td>\n",
              "      <td>2</td>\n",
              "      <td>0</td>\n",
              "      <td>0</td>\n",
              "      <td>93826.63</td>\n",
              "      <td>0</td>\n",
              "    </tr>\n",
              "    <tr>\n",
              "      <th>4</th>\n",
              "      <td>850</td>\n",
              "      <td>Spain</td>\n",
              "      <td>Female</td>\n",
              "      <td>43</td>\n",
              "      <td>2</td>\n",
              "      <td>125510.82</td>\n",
              "      <td>1</td>\n",
              "      <td>1</td>\n",
              "      <td>1</td>\n",
              "      <td>79084.10</td>\n",
              "      <td>0</td>\n",
              "    </tr>\n",
              "  </tbody>\n",
              "</table>\n",
              "</div>\n",
              "      <button class=\"colab-df-convert\" onclick=\"convertToInteractive('df-27b232d7-ce2f-4a3d-9a68-bea855c134ce')\"\n",
              "              title=\"Convert this dataframe to an interactive table.\"\n",
              "              style=\"display:none;\">\n",
              "        \n",
              "  <svg xmlns=\"http://www.w3.org/2000/svg\" height=\"24px\"viewBox=\"0 0 24 24\"\n",
              "       width=\"24px\">\n",
              "    <path d=\"M0 0h24v24H0V0z\" fill=\"none\"/>\n",
              "    <path d=\"M18.56 5.44l.94 2.06.94-2.06 2.06-.94-2.06-.94-.94-2.06-.94 2.06-2.06.94zm-11 1L8.5 8.5l.94-2.06 2.06-.94-2.06-.94L8.5 2.5l-.94 2.06-2.06.94zm10 10l.94 2.06.94-2.06 2.06-.94-2.06-.94-.94-2.06-.94 2.06-2.06.94z\"/><path d=\"M17.41 7.96l-1.37-1.37c-.4-.4-.92-.59-1.43-.59-.52 0-1.04.2-1.43.59L10.3 9.45l-7.72 7.72c-.78.78-.78 2.05 0 2.83L4 21.41c.39.39.9.59 1.41.59.51 0 1.02-.2 1.41-.59l7.78-7.78 2.81-2.81c.8-.78.8-2.07 0-2.86zM5.41 20L4 18.59l7.72-7.72 1.47 1.35L5.41 20z\"/>\n",
              "  </svg>\n",
              "      </button>\n",
              "      \n",
              "  <style>\n",
              "    .colab-df-container {\n",
              "      display:flex;\n",
              "      flex-wrap:wrap;\n",
              "      gap: 12px;\n",
              "    }\n",
              "\n",
              "    .colab-df-convert {\n",
              "      background-color: #E8F0FE;\n",
              "      border: none;\n",
              "      border-radius: 50%;\n",
              "      cursor: pointer;\n",
              "      display: none;\n",
              "      fill: #1967D2;\n",
              "      height: 32px;\n",
              "      padding: 0 0 0 0;\n",
              "      width: 32px;\n",
              "    }\n",
              "\n",
              "    .colab-df-convert:hover {\n",
              "      background-color: #E2EBFA;\n",
              "      box-shadow: 0px 1px 2px rgba(60, 64, 67, 0.3), 0px 1px 3px 1px rgba(60, 64, 67, 0.15);\n",
              "      fill: #174EA6;\n",
              "    }\n",
              "\n",
              "    [theme=dark] .colab-df-convert {\n",
              "      background-color: #3B4455;\n",
              "      fill: #D2E3FC;\n",
              "    }\n",
              "\n",
              "    [theme=dark] .colab-df-convert:hover {\n",
              "      background-color: #434B5C;\n",
              "      box-shadow: 0px 1px 3px 1px rgba(0, 0, 0, 0.15);\n",
              "      filter: drop-shadow(0px 1px 2px rgba(0, 0, 0, 0.3));\n",
              "      fill: #FFFFFF;\n",
              "    }\n",
              "  </style>\n",
              "\n",
              "      <script>\n",
              "        const buttonEl =\n",
              "          document.querySelector('#df-27b232d7-ce2f-4a3d-9a68-bea855c134ce button.colab-df-convert');\n",
              "        buttonEl.style.display =\n",
              "          google.colab.kernel.accessAllowed ? 'block' : 'none';\n",
              "\n",
              "        async function convertToInteractive(key) {\n",
              "          const element = document.querySelector('#df-27b232d7-ce2f-4a3d-9a68-bea855c134ce');\n",
              "          const dataTable =\n",
              "            await google.colab.kernel.invokeFunction('convertToInteractive',\n",
              "                                                     [key], {});\n",
              "          if (!dataTable) return;\n",
              "\n",
              "          const docLinkHtml = 'Like what you see? Visit the ' +\n",
              "            '<a target=\"_blank\" href=https://colab.research.google.com/notebooks/data_table.ipynb>data table notebook</a>'\n",
              "            + ' to learn more about interactive tables.';\n",
              "          element.innerHTML = '';\n",
              "          dataTable['output_type'] = 'display_data';\n",
              "          await google.colab.output.renderOutput(dataTable, element);\n",
              "          const docLink = document.createElement('div');\n",
              "          docLink.innerHTML = docLinkHtml;\n",
              "          element.appendChild(docLink);\n",
              "        }\n",
              "      </script>\n",
              "    </div>\n",
              "  </div>\n",
              "  "
            ]
          },
          "metadata": {},
          "execution_count": 10
        }
      ],
      "source": [
        "df.head()"
      ]
    },
    {
      "cell_type": "code",
      "execution_count": 11,
      "metadata": {
        "colab": {
          "base_uri": "https://localhost:8080/",
          "height": 1000
        },
        "id": "-fddbmAy5HSE",
        "outputId": "f560efc0-b96f-40cc-fa8f-b4acd6b2b97c"
      },
      "outputs": [
        {
          "output_type": "execute_result",
          "data": {
            "text/plain": [
              "array([[<matplotlib.axes._subplots.AxesSubplot object at 0x7fb273b67590>,\n",
              "        <matplotlib.axes._subplots.AxesSubplot object at 0x7fb273b44a50>,\n",
              "        <matplotlib.axes._subplots.AxesSubplot object at 0x7fb273ae8b50>],\n",
              "       [<matplotlib.axes._subplots.AxesSubplot object at 0x7fb273abe690>,\n",
              "        <matplotlib.axes._subplots.AxesSubplot object at 0x7fb273a73c90>,\n",
              "        <matplotlib.axes._subplots.AxesSubplot object at 0x7fb273a382d0>],\n",
              "       [<matplotlib.axes._subplots.AxesSubplot object at 0x7fb2739ee950>,\n",
              "        <matplotlib.axes._subplots.AxesSubplot object at 0x7fb2739a7e90>,\n",
              "        <matplotlib.axes._subplots.AxesSubplot object at 0x7fb2739a7ed0>]],\n",
              "      dtype=object)"
            ]
          },
          "metadata": {},
          "execution_count": 11
        },
        {
          "output_type": "display_data",
          "data": {
            "text/plain": [
              "<Figure size 1440x1440 with 9 Axes>"
            ],
            "image/png": "[encoded data removed]"
          },
          "metadata": {
            "needs_background": "light"
          }
        }
      ],
      "source": [
        "plt.rcParams['figure.figsize'] = (20,20)\n",
        "df.hist()"
      ]
    },
    {
      "cell_type": "markdown",
      "source": [
        "Analyse the distribution 'IsActiveMember', 'HasCrCard', 'Geography', and 'Gender' to Exited"
      ],
      "metadata": {
        "id": "2mk1NpfRm51f"
      }
    },
    {
      "cell_type": "code",
      "execution_count": null,
      "metadata": {
        "id": "M0pCotGjHCHQ"
      },
      "outputs": [],
      "source": [
        "fig, axarr = plt.subplots(2, 2, figsize=(14, 10))\n",
        "sns.countplot(x='IsActiveMember', hue = 'Exited',data = df, ax=axarr[0][0])\n",
        "sns.countplot(x='HasCrCard', hue = 'Exited',data = df, ax=axarr[0][1])\n",
        "sns.countplot(x='Geography', hue = 'Exited',data = df, ax=axarr[1][0])\n",
        "sns.countplot(x='Gender', hue = 'Exited',data = df, ax=axarr[1][1])\n"
      ]
    },
    {
      "cell_type": "markdown",
      "source": [
        "We can observe: \n",
        ">Clients who have been with the bank for a short period of time or a long period of time are more likely to churn than those who have been with the bank for a longer period of time.\n",
        "\n",
        "\n",
        ">Female clients churn at a higher rate than male customers.\n",
        "\n",
        ">The majority of clients that churned used credit cards.\n",
        "\n",
        ">The vast majority of the information comes from French citizens. However, the proportion of churned customers is inversely linked to the population of consumers, implying that the bank may be experiencing a difficulty (maybe a lack of customer service personnel) in locations where it has fewer clients.\n"
      ],
      "metadata": {
        "id": "5x9mketqnPlT"
      }
    },
    {
      "cell_type": "markdown",
      "source": [
        "Correlation Matrix \n",
        "From the visualization below we can see that “Age” feature was found to have the strongest relationship with Exited(0.29). Also, there is a strong relationship between exited and balance variable (0.12). "
      ],
      "metadata": {
        "id": "KbO5Apa-nwev"
      }
    },
    {
      "cell_type": "code",
      "execution_count": 13,
      "metadata": {
        "colab": {
          "base_uri": "https://localhost:8080/",
          "height": 338
        },
        "id": "cdwx5Z2xTWUZ",
        "outputId": "e15aaca8-11f9-4f7b-d299-47c0f92e2ec6"
      },
      "outputs": [
        {
          "output_type": "display_data",
          "data": {
            "text/plain": [
              "<Figure size 864x360 with 2 Axes>"
            ],
            "image/png": "[encoded data removed]"
          },
          "metadata": {
            "needs_background": "light"
          }
        }
      ],
      "source": [
        "fig, ax = plt.subplots(figsize= [12,5])\n",
        "g = sns.heatmap(df[[\"CreditScore\",\"Age\",\"Tenure\",\"NumOfProducts\",\"HasCrCard\",\"Balance\", \"EstimatedSalary\", \"Exited\"]].corr(),annot=True, fmt = \".2f\", ax=ax, cmap = \"RdPu\")\n",
        "ax.set_title(\"Correlation Matrix\", fontsize=16)\n",
        "plt.show()"
      ]
    },
    {
      "cell_type": "markdown",
      "source": [
        "Basic visualization using a boxplot of the seaborn library to discover the existence of outliers in the 'Age' column. Examine the graphic below to identify the outliers."
      ],
      "metadata": {
        "id": "yXTOMt6c9qYW"
      }
    },
    {
      "cell_type": "code",
      "execution_count": 14,
      "metadata": {
        "colab": {
          "base_uri": "https://localhost:8080/",
          "height": 515
        },
        "id": "4R1RlcCSkvGz",
        "outputId": "e3875ea6-f457-4c09-892c-4ed864ed16a6"
      },
      "outputs": [
        {
          "output_type": "execute_result",
          "data": {
            "text/plain": [
              "<matplotlib.axes._subplots.AxesSubplot at 0x7fb2739bc1d0>"
            ]
          },
          "metadata": {},
          "execution_count": 14
        },
        {
          "output_type": "display_data",
          "data": {
            "text/plain": [
              "<Figure size 504x576 with 1 Axes>"
            ],
            "image/png": "[encoded data removed]"
          },
          "metadata": {
            "needs_background": "light"
          }
        }
      ],
      "source": [
        "plt.figure(figsize=(7,8))\n",
        "Exited = df[\"Exited\"].replace({0: \"False\", 1: \"True\"}, inplace=False)\n",
        "sns.boxplot(data = df, x=\"Age\", y=Exited)"
      ]
    },
    {
      "cell_type": "code",
      "execution_count": 15,
      "metadata": {
        "colab": {
          "base_uri": "https://localhost:8080/"
        },
        "id": "cqVGmYbAnteg",
        "outputId": "9d5a862b-6857-4846-f62f-bae9154586ad"
      },
      "outputs": [
        {
          "output_type": "execute_result",
          "data": {
            "text/plain": [
              "10000"
            ]
          },
          "metadata": {},
          "execution_count": 15
        }
      ],
      "source": [
        "len(df['Age'])"
      ]
    },
    {
      "cell_type": "markdown",
      "source": [],
      "metadata": {
        "id": "deelel_9Yg3E"
      }
    },
    {
      "cell_type": "markdown",
      "source": [
        "From the boxplot above we can see there is some outliers.  To remove the outliers we can used IQR (Inter Quartile Range). Inter Quartile Range approach to finding the outliers is the most commonly used and most trusted approach used in the research field.\n",
        "\n",
        "\n",
        "\n",
        "```\n",
        "iqr = q3 - q1\n",
        "```\n",
        "\n",
        "\n",
        "\n"
      ],
      "metadata": {
        "id": "BBoo9wkuMhMu"
      }
    },
    {
      "cell_type": "markdown",
      "source": [
        "To define the outlier base value is defined above and below datasets normal range namely Upper and Lower bounds, define the upper and the lower bound (1.5*IQR value is considered) :\n",
        "```\n",
        "lower= q1-1.5 * iqr\n",
        "upper = q3 + 1.5 * iqr\n",
        "```\n"
      ],
      "metadata": {
        "id": "gisrOsyIX3ZT"
      }
    },
    {
      "cell_type": "code",
      "execution_count": 16,
      "metadata": {
        "colab": {
          "base_uri": "https://localhost:8080/"
        },
        "id": "mldGtjsa79m-",
        "outputId": "50fdfa26-eb36-4d36-e87d-2c0690107883"
      },
      "outputs": [
        {
          "output_type": "execute_result",
          "data": {
            "text/plain": [
              "9589"
            ]
          },
          "metadata": {},
          "execution_count": 16
        }
      ],
      "source": [
        "q1 = df['Age'].quantile(0.25)\n",
        "q3 = df['Age'].quantile(0.75)\n",
        "iqr = q3 - q1\n",
        "lower= q1-1.5 * iqr\n",
        "upper = q3 + 1.5 * iqr\n",
        "new_age = df.loc[(df['Age'] > lower) & (df['Age'] < upper)]\n",
        "len(new_age)"
      ]
    },
    {
      "cell_type": "markdown",
      "source": [
        "There's not any outliers in Balance."
      ],
      "metadata": {
        "id": "njPWul9YZIkc"
      }
    },
    {
      "cell_type": "code",
      "execution_count": 17,
      "metadata": {
        "colab": {
          "base_uri": "https://localhost:8080/",
          "height": 515
        },
        "id": "oYm0JagClNYP",
        "outputId": "455632d4-a410-4ccd-81df-375dbd998bf4"
      },
      "outputs": [
        {
          "output_type": "execute_result",
          "data": {
            "text/plain": [
              "<matplotlib.axes._subplots.AxesSubplot at 0x7fb273b093d0>"
            ]
          },
          "metadata": {},
          "execution_count": 17
        },
        {
          "output_type": "display_data",
          "data": {
            "text/plain": [
              "<Figure size 504x576 with 1 Axes>"
            ],
            "image/png": "[encoded data removed]"
          },
          "metadata": {
            "needs_background": "light"
          }
        }
      ],
      "source": [
        "plt.figure(figsize=(7,8))\n",
        "sns.boxplot(data = df, x=\"Balance\", y=Exited)"
      ]
    },
    {
      "cell_type": "markdown",
      "source": [
        "The vast majority of the information comes from French citizens. However, the proportion of churned customers is inversely linked to the population of consumers, implying that the bank may be experiencing a difficulty (maybe a lack of customer service personnel) in locations where it has fewer clients."
      ],
      "metadata": {
        "id": "ewUeWkKJbUnk"
      }
    },
    {
      "cell_type": "code",
      "execution_count": 18,
      "metadata": {
        "colab": {
          "base_uri": "https://localhost:8080/",
          "height": 460
        },
        "id": "Y_p65MVnjsDn",
        "outputId": "3a1d4b27-d8ae-4287-b36a-db73260933dc"
      },
      "outputs": [
        {
          "output_type": "execute_result",
          "data": {
            "text/plain": [
              "<matplotlib.axes._subplots.AxesSubplot at 0x7fb27042e210>"
            ]
          },
          "metadata": {},
          "execution_count": 18
        },
        {
          "output_type": "display_data",
          "data": {
            "text/plain": [
              "<Figure size 576x504 with 1 Axes>"
            ],
            "image/png": "[encoded data removed]"
          },
          "metadata": {
            "needs_background": "light"
          }
        }
      ],
      "source": [
        "plt.figure(figsize=(8,7))\n",
        "sns.countplot(data=df, x=\"Geography\", hue=Exited)"
      ]
    },
    {
      "cell_type": "markdown",
      "source": [],
      "metadata": {
        "id": "NrfpFdJzbTLE"
      }
    },
    {
      "cell_type": "code",
      "execution_count": 19,
      "metadata": {
        "colab": {
          "base_uri": "https://localhost:8080/",
          "height": 460
        },
        "id": "Y3MCwWrXYG1u",
        "outputId": "d7be3c33-032e-4a25-b002-0fbf1f7b6143"
      },
      "outputs": [
        {
          "output_type": "execute_result",
          "data": {
            "text/plain": [
              "<matplotlib.axes._subplots.AxesSubplot at 0x7fb2703b6a10>"
            ]
          },
          "metadata": {},
          "execution_count": 19
        },
        {
          "output_type": "display_data",
          "data": {
            "text/plain": [
              "<Figure size 576x504 with 1 Axes>"
            ],
            "image/png": "[encoded data removed]"
          },
          "metadata": {
            "needs_background": "light"
          }
        }
      ],
      "source": [
        "plt.figure(figsize=(8,7))\n",
        "sns.countplot(data=df, x=\"IsActiveMember\", hue=Exited)"
      ]
    },
    {
      "cell_type": "code",
      "execution_count": 20,
      "metadata": {
        "colab": {
          "base_uri": "https://localhost:8080/",
          "height": 460
        },
        "id": "JTyjTShXYK1x",
        "outputId": "b3389fc9-df49-404c-adce-1e37bb7a475a"
      },
      "outputs": [
        {
          "output_type": "execute_result",
          "data": {
            "text/plain": [
              "<matplotlib.axes._subplots.AxesSubplot at 0x7fb2702d7e50>"
            ]
          },
          "metadata": {},
          "execution_count": 20
        },
        {
          "output_type": "display_data",
          "data": {
            "text/plain": [
              "<Figure size 576x504 with 1 Axes>"
            ],
            "image/png": "[encoded data removed]"
          },
          "metadata": {
            "needs_background": "light"
          }
        }
      ],
      "source": [
        "plt.figure(figsize=(8,7))\n",
        "sns.countplot(data=df, x=\"NumOfProducts\", hue=Exited)"
      ]
    },
    {
      "cell_type": "markdown",
      "source": [
        "The visualization above shows that clients who buy more than two things have a high rate of loss, however keep in mind that our data is unreliable. All of the consumers (less than 500 people) who purchased 4 products left the bank."
      ],
      "metadata": {
        "id": "pFhuou82WoT6"
      }
    },
    {
      "cell_type": "markdown",
      "metadata": {
        "id": "5EPYBBSLH58y"
      },
      "source": [
        "#Encoding Categorical Data"
      ]
    },
    {
      "cell_type": "code",
      "execution_count": 21,
      "metadata": {
        "colab": {
          "base_uri": "https://localhost:8080/"
        },
        "id": "kTy2JVQKHDwk",
        "outputId": "f68b54a9-eb8a-4f31-ff7e-651cdc187d84"
      },
      "outputs": [
        {
          "output_type": "execute_result",
          "data": {
            "text/plain": [
              "array(['France', 'Spain', 'Germany'], dtype=object)"
            ]
          },
          "metadata": {},
          "execution_count": 21
        }
      ],
      "source": [
        "df['Geography'].unique()"
      ]
    },
    {
      "cell_type": "markdown",
      "source": [
        "pd.get_dummies(), allows you to easily one-hot encode categorical data."
      ],
      "metadata": {
        "id": "NuAFhcyMl-Hj"
      }
    },
    {
      "cell_type": "code",
      "execution_count": 22,
      "metadata": {
        "colab": {
          "base_uri": "https://localhost:8080/",
          "height": 270
        },
        "id": "ZcbRSPb7HDtG",
        "outputId": "aca7a09e-da9c-4a00-894c-cf05cd7af919"
      },
      "outputs": [
        {
          "output_type": "execute_result",
          "data": {
            "text/plain": [
              "   CreditScore  Age  Tenure    Balance  NumOfProducts  HasCrCard  \\\n",
              "0          619   42       2       0.00              1          1   \n",
              "1          608   41       1   83807.86              1          0   \n",
              "2          502   42       8  159660.80              3          1   \n",
              "3          699   39       1       0.00              2          0   \n",
              "4          850   43       2  125510.82              1          1   \n",
              "\n",
              "   IsActiveMember  EstimatedSalary  Exited  Geography_Germany  \\\n",
              "0               1        101348.88       1                  0   \n",
              "1               1        112542.58       0                  0   \n",
              "2               0        113931.57       1                  0   \n",
              "3               0         93826.63       0                  0   \n",
              "4               1         79084.10       0                  0   \n",
              "\n",
              "   Geography_Spain  Gender_Male  \n",
              "0                0            0  \n",
              "1                1            0  \n",
              "2                0            0  \n",
              "3                0            0  \n",
              "4                1            0  "
            ],
            "text/html": [
              "\n",
              "  <div id=\"df-c4ed14fc-3bd5-4a25-8b38-9d3302928fec\">\n",
              "    <div class=\"colab-df-container\">\n",
              "      <div>\n",
              "<style scoped>\n",
              "    .dataframe tbody tr th:only-of-type {\n",
              "        vertical-align: middle;\n",
              "    }\n",
              "\n",
              "    .dataframe tbody tr th {\n",
              "        vertical-align: top;\n",
              "    }\n",
              "\n",
              "    .dataframe thead th {\n",
              "        text-align: right;\n",
              "    }\n",
              "</style>\n",
              "<table border=\"1\" class=\"dataframe\">\n",
              "  <thead>\n",
              "    <tr style=\"text-align: right;\">\n",
              "      <th></th>\n",
              "      <th>CreditScore</th>\n",
              "      <th>Age</th>\n",
              "      <th>Tenure</th>\n",
              "      <th>Balance</th>\n",
              "      <th>NumOfProducts</th>\n",
              "      <th>HasCrCard</th>\n",
              "      <th>IsActiveMember</th>\n",
              "      <th>EstimatedSalary</th>\n",
              "      <th>Exited</th>\n",
              "      <th>Geography_Germany</th>\n",
              "      <th>Geography_Spain</th>\n",
              "      <th>Gender_Male</th>\n",
              "    </tr>\n",
              "  </thead>\n",
              "  <tbody>\n",
              "    <tr>\n",
              "      <th>0</th>\n",
              "      <td>619</td>\n",
              "      <td>42</td>\n",
              "      <td>2</td>\n",
              "      <td>0.00</td>\n",
              "      <td>1</td>\n",
              "      <td>1</td>\n",
              "      <td>1</td>\n",
              "      <td>101348.88</td>\n",
              "      <td>1</td>\n",
              "      <td>0</td>\n",
              "      <td>0</td>\n",
              "      <td>0</td>\n",
              "    </tr>\n",
              "    <tr>\n",
              "      <th>1</th>\n",
              "      <td>608</td>\n",
              "      <td>41</td>\n",
              "      <td>1</td>\n",
              "      <td>83807.86</td>\n",
              "      <td>1</td>\n",
              "      <td>0</td>\n",
              "      <td>1</td>\n",
              "      <td>112542.58</td>\n",
              "      <td>0</td>\n",
              "      <td>0</td>\n",
              "      <td>1</td>\n",
              "      <td>0</td>\n",
              "    </tr>\n",
              "    <tr>\n",
              "      <th>2</th>\n",
              "      <td>502</td>\n",
              "      <td>42</td>\n",
              "      <td>8</td>\n",
              "      <td>159660.80</td>\n",
              "      <td>3</td>\n",
              "      <td>1</td>\n",
              "      <td>0</td>\n",
              "      <td>113931.57</td>\n",
              "      <td>1</td>\n",
              "      <td>0</td>\n",
              "      <td>0</td>\n",
              "      <td>0</td>\n",
              "    </tr>\n",
              "    <tr>\n",
              "      <th>3</th>\n",
              "      <td>699</td>\n",
              "      <td>39</td>\n",
              "      <td>1</td>\n",
              "      <td>0.00</td>\n",
              "      <td>2</td>\n",
              "      <td>0</td>\n",
              "      <td>0</td>\n",
              "      <td>93826.63</td>\n",
              "      <td>0</td>\n",
              "      <td>0</td>\n",
              "      <td>0</td>\n",
              "      <td>0</td>\n",
              "    </tr>\n",
              "    <tr>\n",
              "      <th>4</th>\n",
              "      <td>850</td>\n",
              "      <td>43</td>\n",
              "      <td>2</td>\n",
              "      <td>125510.82</td>\n",
              "      <td>1</td>\n",
              "      <td>1</td>\n",
              "      <td>1</td>\n",
              "      <td>79084.10</td>\n",
              "      <td>0</td>\n",
              "      <td>0</td>\n",
              "      <td>1</td>\n",
              "      <td>0</td>\n",
              "    </tr>\n",
              "  </tbody>\n",
              "</table>\n",
              "</div>\n",
              "      <button class=\"colab-df-convert\" onclick=\"convertToInteractive('df-c4ed14fc-3bd5-4a25-8b38-9d3302928fec')\"\n",
              "              title=\"Convert this dataframe to an interactive table.\"\n",
              "              style=\"display:none;\">\n",
              "        \n",
              "  <svg xmlns=\"http://www.w3.org/2000/svg\" height=\"24px\"viewBox=\"0 0 24 24\"\n",
              "       width=\"24px\">\n",
              "    <path d=\"M0 0h24v24H0V0z\" fill=\"none\"/>\n",
              "    <path d=\"M18.56 5.44l.94 2.06.94-2.06 2.06-.94-2.06-.94-.94-2.06-.94 2.06-2.06.94zm-11 1L8.5 8.5l.94-2.06 2.06-.94-2.06-.94L8.5 2.5l-.94 2.06-2.06.94zm10 10l.94 2.06.94-2.06 2.06-.94-2.06-.94-.94-2.06-.94 2.06-2.06.94z\"/><path d=\"M17.41 7.96l-1.37-1.37c-.4-.4-.92-.59-1.43-.59-.52 0-1.04.2-1.43.59L10.3 9.45l-7.72 7.72c-.78.78-.78 2.05 0 2.83L4 21.41c.39.39.9.59 1.41.59.51 0 1.02-.2 1.41-.59l7.78-7.78 2.81-2.81c.8-.78.8-2.07 0-2.86zM5.41 20L4 18.59l7.72-7.72 1.47 1.35L5.41 20z\"/>\n",
              "  </svg>\n",
              "      </button>\n",
              "      \n",
              "  <style>\n",
              "    .colab-df-container {\n",
              "      display:flex;\n",
              "      flex-wrap:wrap;\n",
              "      gap: 12px;\n",
              "    }\n",
              "\n",
              "    .colab-df-convert {\n",
              "      background-color: #E8F0FE;\n",
              "      border: none;\n",
              "      border-radius: 50%;\n",
              "      cursor: pointer;\n",
              "      display: none;\n",
              "      fill: #1967D2;\n",
              "      height: 32px;\n",
              "      padding: 0 0 0 0;\n",
              "      width: 32px;\n",
              "    }\n",
              "\n",
              "    .colab-df-convert:hover {\n",
              "      background-color: #E2EBFA;\n",
              "      box-shadow: 0px 1px 2px rgba(60, 64, 67, 0.3), 0px 1px 3px 1px rgba(60, 64, 67, 0.15);\n",
              "      fill: #174EA6;\n",
              "    }\n",
              "\n",
              "    [theme=dark] .colab-df-convert {\n",
              "      background-color: #3B4455;\n",
              "      fill: #D2E3FC;\n",
              "    }\n",
              "\n",
              "    [theme=dark] .colab-df-convert:hover {\n",
              "      background-color: #434B5C;\n",
              "      box-shadow: 0px 1px 3px 1px rgba(0, 0, 0, 0.15);\n",
              "      filter: drop-shadow(0px 1px 2px rgba(0, 0, 0, 0.3));\n",
              "      fill: #FFFFFF;\n",
              "    }\n",
              "  </style>\n",
              "\n",
              "      <script>\n",
              "        const buttonEl =\n",
              "          document.querySelector('#df-c4ed14fc-3bd5-4a25-8b38-9d3302928fec button.colab-df-convert');\n",
              "        buttonEl.style.display =\n",
              "          google.colab.kernel.accessAllowed ? 'block' : 'none';\n",
              "\n",
              "        async function convertToInteractive(key) {\n",
              "          const element = document.querySelector('#df-c4ed14fc-3bd5-4a25-8b38-9d3302928fec');\n",
              "          const dataTable =\n",
              "            await google.colab.kernel.invokeFunction('convertToInteractive',\n",
              "                                                     [key], {});\n",
              "          if (!dataTable) return;\n",
              "\n",
              "          const docLinkHtml = 'Like what you see? Visit the ' +\n",
              "            '<a target=\"_blank\" href=https://colab.research.google.com/notebooks/data_table.ipynb>data table notebook</a>'\n",
              "            + ' to learn more about interactive tables.';\n",
              "          element.innerHTML = '';\n",
              "          dataTable['output_type'] = 'display_data';\n",
              "          await google.colab.output.renderOutput(dataTable, element);\n",
              "          const docLink = document.createElement('div');\n",
              "          docLink.innerHTML = docLinkHtml;\n",
              "          element.appendChild(docLink);\n",
              "        }\n",
              "      </script>\n",
              "    </div>\n",
              "  </div>\n",
              "  "
            ]
          },
          "metadata": {},
          "execution_count": 22
        }
      ],
      "source": [
        "df = pd.get_dummies(df, drop_first=True)\n",
        "df.head()"
      ]
    },
    {
      "cell_type": "code",
      "execution_count": 23,
      "metadata": {
        "colab": {
          "base_uri": "https://localhost:8080/"
        },
        "id": "1fSdff4aNQvX",
        "outputId": "36eb4bee-bfe3-4445-ea7e-5d3101739aa6"
      },
      "outputs": [
        {
          "output_type": "execute_result",
          "data": {
            "text/plain": [
              "0    7963\n",
              "1    2037\n",
              "Name: Exited, dtype: int64"
            ]
          },
          "metadata": {},
          "execution_count": 23
        }
      ],
      "source": [
        "df['Exited'].value_counts()"
      ]
    },
    {
      "cell_type": "code",
      "execution_count": 24,
      "metadata": {
        "colab": {
          "base_uri": "https://localhost:8080/",
          "height": 572
        },
        "id": "5HlcVtsxNY33",
        "outputId": "627c0cb5-34a1-4c3f-e8ab-2a6efad9e054"
      },
      "outputs": [
        {
          "output_type": "stream",
          "name": "stderr",
          "text": [
            "/usr/local/lib/python3.7/dist-packages/seaborn/_decorators.py:43: FutureWarning: Pass the following variable as a keyword arg: x. From version 0.12, the only valid positional argument will be `data`, and passing other arguments without an explicit keyword will result in an error or misinterpretation.\n",
            "  FutureWarning\n"
          ]
        },
        {
          "output_type": "execute_result",
          "data": {
            "text/plain": [
              "<matplotlib.axes._subplots.AxesSubplot at 0x7fb270281610>"
            ]
          },
          "metadata": {},
          "execution_count": 24
        },
        {
          "output_type": "display_data",
          "data": {
            "text/plain": [
              "<Figure size 504x576 with 1 Axes>"
            ],
            "image/png": "[encoded data removed]"
          },
          "metadata": {
            "needs_background": "light"
          }
        }
      ],
      "source": [
        "from matplotlib import rcParams\n",
        "rcParams['figure.figsize'] = 7,8\n",
        "sns.countplot(df['Exited'])"
      ]
    },
    {
      "cell_type": "markdown",
      "source": [
        "From the visualizzation above there is   10000  records, of  which 7963 are  non-churners  and 2037 are churners. Therefore, the dataset is highly unbalanced in terms of the proportion of churners and non-churners. "
      ],
      "metadata": {
        "id": "6eu1Goj6aUKq"
      }
    },
    {
      "cell_type": "markdown",
      "metadata": {
        "id": "I9T15gEhNw6j"
      },
      "source": [
        "#Handling imbalance data\n",
        "\n",
        "---\n",
        "\n"
      ]
    },
    {
      "cell_type": "code",
      "execution_count": 25,
      "metadata": {
        "id": "epoc9INWNYrl"
      },
      "outputs": [],
      "source": [
        "X = df.drop('Exited', axis=1)\n",
        "y = df['Exited']"
      ]
    },
    {
      "cell_type": "code",
      "execution_count": 26,
      "metadata": {
        "colab": {
          "base_uri": "https://localhost:8080/"
        },
        "id": "YZCjBs2lWpmG",
        "outputId": "fef4431c-1586-47b1-affb-12d3088c49f3"
      },
      "outputs": [
        {
          "output_type": "execute_result",
          "data": {
            "text/plain": [
              "1    7963\n",
              "0    7963\n",
              "Name: Exited, dtype: int64"
            ]
          },
          "metadata": {},
          "execution_count": 26
        }
      ],
      "source": [
        "from imblearn.over_sampling import SMOTE \n",
        "X_smote, y_smote = SMOTE().fit_resample(X, y)\n",
        "y_smote.value_counts()"
      ]
    },
    {
      "cell_type": "markdown",
      "metadata": {
        "id": "6EoOf6JClOQA"
      },
      "source": [
        "Split data"
      ]
    },
    {
      "cell_type": "code",
      "execution_count": 27,
      "metadata": {
        "id": "FmDzKYPy5k0b"
      },
      "outputs": [],
      "source": [
        "X_train, X_test, y_train, y_test = train_test_split(X_smote,y_smote,test_size=0.20,random_state=42)"
      ]
    },
    {
      "cell_type": "markdown",
      "metadata": {
        "id": "_DOcx_cWPwvh"
      },
      "source": [
        "Feature Scaling "
      ]
    },
    {
      "cell_type": "code",
      "execution_count": 28,
      "metadata": {
        "id": "2cxPl2cTPzXi"
      },
      "outputs": [],
      "source": [
        "from sklearn.preprocessing import StandardScaler\n",
        "standard_scaler = StandardScaler()\n",
        "X_train = standard_scaler.fit_transform(X_train)\n",
        "X_test = standard_scaler.transform(X_test)\n"
      ]
    },
    {
      "cell_type": "code",
      "execution_count": 29,
      "metadata": {
        "colab": {
          "base_uri": "https://localhost:8080/"
        },
        "id": "qxcbCxMFP0CV",
        "outputId": "35a60370-e377-48c4-ec80-26ce964e844c"
      },
      "outputs": [
        {
          "output_type": "execute_result",
          "data": {
            "text/plain": [
              "array([[-0.55414902,  0.61201095,  0.44356708, ..., -0.57529585,\n",
              "        -0.46675133,  1.1934646 ],\n",
              "       [ 1.09189443,  0.11011722, -1.40342095, ..., -0.57529585,\n",
              "        -0.46675133,  1.1934646 ],\n",
              "       [-0.41243667,  1.01352594,  1.18236229, ..., -0.57529585,\n",
              "        -0.46675133, -0.83789666],\n",
              "       ...,\n",
              "       [ 0.19801653,  0.21049597,  1.18236229, ..., -0.57529585,\n",
              "        -0.46675133,  1.1934646 ],\n",
              "       [ 1.15730013,  0.21049597, -1.40342095, ..., -0.57529585,\n",
              "        -0.46675133, -0.83789666],\n",
              "       [ 0.52504503,  1.01352594, -1.40342095, ...,  1.73823607,\n",
              "        -0.46675133,  1.1934646 ]])"
            ]
          },
          "metadata": {},
          "execution_count": 29
        }
      ],
      "source": [
        "X_train"
      ]
    },
    {
      "cell_type": "markdown",
      "metadata": {
        "id": "15ftq86dQ0jK"
      },
      "source": [
        "#Modeling and Evaluation"
      ]
    },
    {
      "cell_type": "markdown",
      "metadata": {
        "id": "ww2hLtLldFKd"
      },
      "source": [
        "**Logistic Regression** "
      ]
    },
    {
      "cell_type": "code",
      "execution_count": 30,
      "metadata": {
        "colab": {
          "base_uri": "https://localhost:8080/"
        },
        "id": "RdHdC8pjQz5a",
        "outputId": "cdbce763-e158-4be1-dab0-1626ba6f09fb"
      },
      "outputs": [
        {
          "output_type": "stream",
          "name": "stdout",
          "text": [
            "              precision    recall  f1-score   support\n",
            "\n",
            "           0       0.80      0.77      0.79      1633\n",
            "           1       0.77      0.80      0.78      1553\n",
            "\n",
            "    accuracy                           0.78      3186\n",
            "   macro avg       0.78      0.78      0.78      3186\n",
            "weighted avg       0.78      0.78      0.78      3186\n",
            "\n"
          ]
        }
      ],
      "source": [
        "model1 = LogisticRegression(C=0.03359818286283781, penalty='l1', solver='saga')\n",
        "model1.fit(X_train, y_train)\n",
        "prediction1 = model1.predict(X_test)\n",
        "print(classification_report(y_test, prediction1))"
      ]
    },
    {
      "cell_type": "code",
      "execution_count": 31,
      "metadata": {
        "colab": {
          "base_uri": "https://localhost:8080/"
        },
        "id": "hegorajRQzth",
        "outputId": "1a078121-74f5-473a-ce66-f5c1115b3534"
      },
      "outputs": [
        {
          "output_type": "stream",
          "name": "stdout",
          "text": [
            "0.7843691148775894\n"
          ]
        }
      ],
      "source": [
        "from sklearn.metrics import accuracy_score\n",
        "acc_lr = accuracy_score(y_test, prediction1)\n",
        "print(acc_lr)"
      ]
    },
    {
      "cell_type": "code",
      "execution_count": 32,
      "metadata": {
        "colab": {
          "base_uri": "https://localhost:8080/"
        },
        "id": "enw_tL7gfzxZ",
        "outputId": "e8dfed0d-e145-4cfe-9fbb-8b0beadeb0dd"
      },
      "outputs": [
        {
          "output_type": "stream",
          "name": "stdout",
          "text": [
            "[[1261  372]\n",
            " [ 315 1238]]\n"
          ]
        }
      ],
      "source": [
        "print(confusion_matrix(y_test, prediction1))"
      ]
    },
    {
      "cell_type": "code",
      "execution_count": 33,
      "metadata": {
        "colab": {
          "base_uri": "https://localhost:8080/"
        },
        "id": "c0Mpr7HNJqJz",
        "outputId": "760d0cbd-d755-41fd-fcc6-ce82ff1f6352"
      },
      "outputs": [
        {
          "output_type": "stream",
          "name": "stdout",
          "text": [
            "0.7846825909120843\n"
          ]
        }
      ],
      "source": [
        "roc_lr  = roc_auc_score(y_test, prediction1)\n",
        "print(roc_lr )"
      ]
    },
    {
      "cell_type": "code",
      "source": [
        "acc_lr = accuracy_score(y_test, prediction1)\n",
        "recall_lr = recall_score(y_test, prediction1)\n",
        "precision_lr = precision_score(y_test, prediction1)\n",
        "f1_score_lr = f1_score(y_test, prediction1)  "
      ],
      "metadata": {
        "id": "Ig1wEIJvnqUD"
      },
      "execution_count": 34,
      "outputs": []
    },
    {
      "cell_type": "markdown",
      "metadata": {
        "id": "4S8nMhmgbm80"
      },
      "source": [
        "\n",
        "**SVM**"
      ]
    },
    {
      "cell_type": "code",
      "execution_count": 35,
      "metadata": {
        "colab": {
          "base_uri": "https://localhost:8080/"
        },
        "id": "ZFRJfZykb9Wi",
        "outputId": "623f25ae-5d0b-468c-9e6e-c3168bb7dda8"
      },
      "outputs": [
        {
          "output_type": "stream",
          "name": "stdout",
          "text": [
            "              precision    recall  f1-score   support\n",
            "\n",
            "           0       0.85      0.84      0.84      1633\n",
            "           1       0.83      0.85      0.84      1553\n",
            "\n",
            "    accuracy                           0.84      3186\n",
            "   macro avg       0.84      0.84      0.84      3186\n",
            "weighted avg       0.84      0.84      0.84      3186\n",
            "\n"
          ]
        }
      ],
      "source": [
        "from sklearn import svm\n",
        "model2 = svm.SVC(gamma='auto', probability=True)\n",
        "model2.fit(X_train,y_train)\n",
        "prediction2 = model2.predict(X_test)\n",
        "print(classification_report(y_test, prediction2))"
      ]
    },
    {
      "cell_type": "code",
      "execution_count": 36,
      "metadata": {
        "id": "cE_n3dAab9rW"
      },
      "outputs": [],
      "source": [
        "acc_svm = accuracy_score(y_test, prediction2)\n",
        "recall_svm = recall_score(y_test, prediction2)\n",
        "precision_svm = precision_score(y_test, prediction2) \n",
        "f1_score_svm = f1_score(y_test, prediction2)\n"
      ]
    },
    {
      "cell_type": "code",
      "execution_count": 37,
      "metadata": {
        "colab": {
          "base_uri": "https://localhost:8080/"
        },
        "id": "9ksqKVlEf7PF",
        "outputId": "b1da29be-4d7e-45f8-9315-2c3db9b734c7"
      },
      "outputs": [
        {
          "output_type": "stream",
          "name": "stdout",
          "text": [
            "[[1365  268]\n",
            " [ 236 1317]]\n"
          ]
        }
      ],
      "source": [
        "print(confusion_matrix(y_test, prediction2))"
      ]
    },
    {
      "cell_type": "code",
      "source": [
        "roc_svm  = roc_auc_score(y_test, prediction2)\n",
        "print(roc_svm )"
      ],
      "metadata": {
        "colab": {
          "base_uri": "https://localhost:8080/"
        },
        "id": "Cn9HdvPjetBF",
        "outputId": "014b4235-5848-465a-b430-370c37295d44"
      },
      "execution_count": 38,
      "outputs": [
        {
          "output_type": "stream",
          "name": "stdout",
          "text": [
            "0.8419604668521783\n"
          ]
        }
      ]
    },
    {
      "cell_type": "code",
      "execution_count": 39,
      "metadata": {
        "colab": {
          "base_uri": "https://localhost:8080/"
        },
        "id": "-Lh4zOHdmAJu",
        "outputId": "94ee2ab5-942e-41a9-d94c-1f1b2535e067"
      },
      "outputs": [
        {
          "output_type": "stream",
          "name": "stdout",
          "text": [
            "Fitting 5 folds for each of 25 candidates, totalling 125 fits\n",
            "[CV 1/5] END ........C=0.1, gamma=1, kernel=rbf;, score=0.708 total time=  13.4s\n",
            "[CV 2/5] END ........C=0.1, gamma=1, kernel=rbf;, score=0.695 total time=   8.0s\n",
            "[CV 3/5] END ........C=0.1, gamma=1, kernel=rbf;, score=0.699 total time=   8.1s\n",
            "[CV 4/5] END ........C=0.1, gamma=1, kernel=rbf;, score=0.717 total time=   8.0s\n",
            "[CV 5/5] END ........C=0.1, gamma=1, kernel=rbf;, score=0.711 total time=   8.1s\n",
            "[CV 1/5] END ......C=0.1, gamma=0.1, kernel=rbf;, score=0.827 total time=   4.5s\n",
            "[CV 2/5] END ......C=0.1, gamma=0.1, kernel=rbf;, score=0.811 total time=   4.5s\n",
            "[CV 3/5] END ......C=0.1, gamma=0.1, kernel=rbf;, score=0.827 total time=   4.5s\n",
            "[CV 4/5] END ......C=0.1, gamma=0.1, kernel=rbf;, score=0.826 total time=   4.5s\n",
            "[CV 5/5] END ......C=0.1, gamma=0.1, kernel=rbf;, score=0.823 total time=   4.5s\n",
            "[CV 1/5] END .....C=0.1, gamma=0.01, kernel=rbf;, score=0.798 total time=   5.3s\n",
            "[CV 2/5] END .....C=0.1, gamma=0.01, kernel=rbf;, score=0.780 total time=   5.4s\n",
            "[CV 3/5] END .....C=0.1, gamma=0.01, kernel=rbf;, score=0.789 total time=   5.3s\n",
            "[CV 4/5] END .....C=0.1, gamma=0.01, kernel=rbf;, score=0.789 total time=   5.5s\n",
            "[CV 5/5] END .....C=0.1, gamma=0.01, kernel=rbf;, score=0.779 total time=   6.2s\n",
            "[CV 1/5] END ....C=0.1, gamma=0.001, kernel=rbf;, score=0.791 total time=   6.9s\n",
            "[CV 2/5] END ....C=0.1, gamma=0.001, kernel=rbf;, score=0.767 total time=   6.9s\n",
            "[CV 3/5] END ....C=0.1, gamma=0.001, kernel=rbf;, score=0.777 total time=   6.9s\n",
            "[CV 4/5] END ....C=0.1, gamma=0.001, kernel=rbf;, score=0.779 total time=   6.9s\n",
            "[CV 5/5] END ....C=0.1, gamma=0.001, kernel=rbf;, score=0.769 total time=   6.8s\n",
            "[CV 1/5] END ...C=0.1, gamma=0.0001, kernel=rbf;, score=0.503 total time=   8.5s\n",
            "[CV 2/5] END ...C=0.1, gamma=0.0001, kernel=rbf;, score=0.503 total time=   8.4s\n",
            "[CV 3/5] END ...C=0.1, gamma=0.0001, kernel=rbf;, score=0.503 total time=   9.6s\n",
            "[CV 4/5] END ...C=0.1, gamma=0.0001, kernel=rbf;, score=0.503 total time=   8.5s\n",
            "[CV 5/5] END ...C=0.1, gamma=0.0001, kernel=rbf;, score=0.503 total time=   8.5s\n",
            "[CV 1/5] END ..........C=1, gamma=1, kernel=rbf;, score=0.819 total time=  11.3s\n",
            "[CV 2/5] END ..........C=1, gamma=1, kernel=rbf;, score=0.807 total time=   8.2s\n",
            "[CV 3/5] END ..........C=1, gamma=1, kernel=rbf;, score=0.818 total time=   8.2s\n",
            "[CV 4/5] END ..........C=1, gamma=1, kernel=rbf;, score=0.827 total time=   8.4s\n",
            "[CV 5/5] END ..........C=1, gamma=1, kernel=rbf;, score=0.817 total time=  11.3s\n",
            "[CV 1/5] END ........C=1, gamma=0.1, kernel=rbf;, score=0.832 total time=   4.2s\n",
            "[CV 2/5] END ........C=1, gamma=0.1, kernel=rbf;, score=0.828 total time=   4.1s\n",
            "[CV 3/5] END ........C=1, gamma=0.1, kernel=rbf;, score=0.834 total time=   4.2s\n",
            "[CV 4/5] END ........C=1, gamma=0.1, kernel=rbf;, score=0.837 total time=   4.2s\n",
            "[CV 5/5] END ........C=1, gamma=0.1, kernel=rbf;, score=0.819 total time=   4.1s\n",
            "[CV 1/5] END .......C=1, gamma=0.01, kernel=rbf;, score=0.816 total time=   4.5s\n",
            "[CV 2/5] END .......C=1, gamma=0.01, kernel=rbf;, score=0.803 total time=   4.4s\n",
            "[CV 3/5] END .......C=1, gamma=0.01, kernel=rbf;, score=0.816 total time=   4.4s\n",
            "[CV 4/5] END .......C=1, gamma=0.01, kernel=rbf;, score=0.814 total time=   4.4s\n",
            "[CV 5/5] END .......C=1, gamma=0.01, kernel=rbf;, score=0.811 total time=   4.4s\n",
            "[CV 1/5] END ......C=1, gamma=0.001, kernel=rbf;, score=0.787 total time=   5.3s\n",
            "[CV 2/5] END ......C=1, gamma=0.001, kernel=rbf;, score=0.770 total time=   5.2s\n",
            "[CV 3/5] END ......C=1, gamma=0.001, kernel=rbf;, score=0.780 total time=   5.3s\n",
            "[CV 4/5] END ......C=1, gamma=0.001, kernel=rbf;, score=0.783 total time=   5.3s\n",
            "[CV 5/5] END ......C=1, gamma=0.001, kernel=rbf;, score=0.774 total time=   5.3s\n",
            "[CV 1/5] END .....C=1, gamma=0.0001, kernel=rbf;, score=0.791 total time=   6.8s\n",
            "[CV 2/5] END .....C=1, gamma=0.0001, kernel=rbf;, score=0.767 total time=   6.8s\n",
            "[CV 3/5] END .....C=1, gamma=0.0001, kernel=rbf;, score=0.777 total time=   6.8s\n",
            "[CV 4/5] END .....C=1, gamma=0.0001, kernel=rbf;, score=0.779 total time=   6.8s\n",
            "[CV 5/5] END .....C=1, gamma=0.0001, kernel=rbf;, score=0.768 total time=   6.8s\n",
            "[CV 1/5] END .........C=10, gamma=1, kernel=rbf;, score=0.795 total time=  14.1s\n",
            "[CV 2/5] END .........C=10, gamma=1, kernel=rbf;, score=0.791 total time=  13.2s\n",
            "[CV 3/5] END .........C=10, gamma=1, kernel=rbf;, score=0.797 total time=  13.2s\n",
            "[CV 4/5] END .........C=10, gamma=1, kernel=rbf;, score=0.796 total time=  13.4s\n",
            "[CV 5/5] END .........C=10, gamma=1, kernel=rbf;, score=0.794 total time=  13.0s\n",
            "[CV 1/5] END .......C=10, gamma=0.1, kernel=rbf;, score=0.826 total time=   5.5s\n",
            "[CV 2/5] END .......C=10, gamma=0.1, kernel=rbf;, score=0.828 total time=   5.6s\n",
            "[CV 3/5] END .......C=10, gamma=0.1, kernel=rbf;, score=0.830 total time=   5.6s\n",
            "[CV 4/5] END .......C=10, gamma=0.1, kernel=rbf;, score=0.838 total time=   5.6s\n",
            "[CV 5/5] END .......C=10, gamma=0.1, kernel=rbf;, score=0.823 total time=   5.5s\n",
            "[CV 1/5] END ......C=10, gamma=0.01, kernel=rbf;, score=0.825 total time=   4.4s\n",
            "[CV 2/5] END ......C=10, gamma=0.01, kernel=rbf;, score=0.814 total time=   4.3s\n",
            "[CV 3/5] END ......C=10, gamma=0.01, kernel=rbf;, score=0.828 total time=   4.4s\n",
            "[CV 4/5] END ......C=10, gamma=0.01, kernel=rbf;, score=0.824 total time=   4.4s\n",
            "[CV 5/5] END ......C=10, gamma=0.01, kernel=rbf;, score=0.818 total time=   4.3s\n",
            "[CV 1/5] END .....C=10, gamma=0.001, kernel=rbf;, score=0.796 total time=   4.7s\n",
            "[CV 2/5] END .....C=10, gamma=0.001, kernel=rbf;, score=0.781 total time=   4.9s\n",
            "[CV 3/5] END .....C=10, gamma=0.001, kernel=rbf;, score=0.786 total time=   4.9s\n",
            "[CV 4/5] END .....C=10, gamma=0.001, kernel=rbf;, score=0.789 total time=   4.8s\n",
            "[CV 5/5] END .....C=10, gamma=0.001, kernel=rbf;, score=0.779 total time=   4.8s\n",
            "[CV 1/5] END ....C=10, gamma=0.0001, kernel=rbf;, score=0.788 total time=   5.3s\n",
            "[CV 2/5] END ....C=10, gamma=0.0001, kernel=rbf;, score=0.770 total time=   5.3s\n",
            "[CV 3/5] END ....C=10, gamma=0.0001, kernel=rbf;, score=0.778 total time=   5.3s\n",
            "[CV 4/5] END ....C=10, gamma=0.0001, kernel=rbf;, score=0.783 total time=   5.2s\n",
            "[CV 5/5] END ....C=10, gamma=0.0001, kernel=rbf;, score=0.773 total time=   5.3s\n",
            "[CV 1/5] END ........C=100, gamma=1, kernel=rbf;, score=0.790 total time=  12.8s\n",
            "[CV 2/5] END ........C=100, gamma=1, kernel=rbf;, score=0.782 total time=  13.7s\n",
            "[CV 3/5] END ........C=100, gamma=1, kernel=rbf;, score=0.796 total time=  12.6s\n",
            "[CV 4/5] END ........C=100, gamma=1, kernel=rbf;, score=0.790 total time=  12.9s\n",
            "[CV 5/5] END ........C=100, gamma=1, kernel=rbf;, score=0.789 total time=  12.6s\n",
            "[CV 1/5] END ......C=100, gamma=0.1, kernel=rbf;, score=0.816 total time=  13.0s\n",
            "[CV 2/5] END ......C=100, gamma=0.1, kernel=rbf;, score=0.799 total time=  12.5s\n",
            "[CV 3/5] END ......C=100, gamma=0.1, kernel=rbf;, score=0.818 total time=  12.3s\n",
            "[CV 4/5] END ......C=100, gamma=0.1, kernel=rbf;, score=0.830 total time=  12.8s\n",
            "[CV 5/5] END ......C=100, gamma=0.1, kernel=rbf;, score=0.815 total time=  13.1s\n",
            "[CV 1/5] END .....C=100, gamma=0.01, kernel=rbf;, score=0.830 total time=   5.9s\n",
            "[CV 2/5] END .....C=100, gamma=0.01, kernel=rbf;, score=0.821 total time=   6.0s\n",
            "[CV 3/5] END .....C=100, gamma=0.01, kernel=rbf;, score=0.828 total time=   6.1s\n",
            "[CV 4/5] END .....C=100, gamma=0.01, kernel=rbf;, score=0.832 total time=   6.1s\n",
            "[CV 5/5] END .....C=100, gamma=0.01, kernel=rbf;, score=0.817 total time=   6.0s\n",
            "[CV 1/5] END ....C=100, gamma=0.001, kernel=rbf;, score=0.819 total time=   4.9s\n",
            "[CV 2/5] END ....C=100, gamma=0.001, kernel=rbf;, score=0.804 total time=   4.9s\n",
            "[CV 3/5] END ....C=100, gamma=0.001, kernel=rbf;, score=0.817 total time=   4.9s\n",
            "[CV 4/5] END ....C=100, gamma=0.001, kernel=rbf;, score=0.814 total time=   4.9s\n",
            "[CV 5/5] END ....C=100, gamma=0.001, kernel=rbf;, score=0.811 total time=   5.0s\n",
            "[CV 1/5] END ...C=100, gamma=0.0001, kernel=rbf;, score=0.791 total time=   4.8s\n",
            "[CV 2/5] END ...C=100, gamma=0.0001, kernel=rbf;, score=0.771 total time=   4.8s\n",
            "[CV 3/5] END ...C=100, gamma=0.0001, kernel=rbf;, score=0.781 total time=   4.8s\n",
            "[CV 4/5] END ...C=100, gamma=0.0001, kernel=rbf;, score=0.782 total time=   4.8s\n",
            "[CV 5/5] END ...C=100, gamma=0.0001, kernel=rbf;, score=0.773 total time=   5.8s\n",
            "[CV 1/5] END .......C=1000, gamma=1, kernel=rbf;, score=0.789 total time=  12.8s\n",
            "[CV 2/5] END .......C=1000, gamma=1, kernel=rbf;, score=0.781 total time=  12.3s\n",
            "[CV 3/5] END .......C=1000, gamma=1, kernel=rbf;, score=0.794 total time=  12.8s\n",
            "[CV 4/5] END .......C=1000, gamma=1, kernel=rbf;, score=0.791 total time=  13.0s\n",
            "[CV 5/5] END .......C=1000, gamma=1, kernel=rbf;, score=0.790 total time=  12.9s\n",
            "[CV 1/5] END .....C=1000, gamma=0.1, kernel=rbf;, score=0.794 total time=  53.0s\n",
            "[CV 2/5] END .....C=1000, gamma=0.1, kernel=rbf;, score=0.783 total time=  54.3s\n",
            "[CV 3/5] END .....C=1000, gamma=0.1, kernel=rbf;, score=0.807 total time=  52.9s\n",
            "[CV 4/5] END .....C=1000, gamma=0.1, kernel=rbf;, score=0.811 total time= 1.0min\n",
            "[CV 5/5] END .....C=1000, gamma=0.1, kernel=rbf;, score=0.806 total time=  56.8s\n",
            "[CV 1/5] END ....C=1000, gamma=0.01, kernel=rbf;, score=0.835 total time=  17.1s\n",
            "[CV 2/5] END ....C=1000, gamma=0.01, kernel=rbf;, score=0.828 total time=  16.4s\n",
            "[CV 3/5] END ....C=1000, gamma=0.01, kernel=rbf;, score=0.833 total time=  17.1s\n",
            "[CV 4/5] END ....C=1000, gamma=0.01, kernel=rbf;, score=0.841 total time=  16.5s\n",
            "[CV 5/5] END ....C=1000, gamma=0.01, kernel=rbf;, score=0.819 total time=  16.5s\n",
            "[CV 1/5] END ...C=1000, gamma=0.001, kernel=rbf;, score=0.824 total time=   6.4s\n",
            "[CV 2/5] END ...C=1000, gamma=0.001, kernel=rbf;, score=0.813 total time=   6.6s\n",
            "[CV 3/5] END ...C=1000, gamma=0.001, kernel=rbf;, score=0.827 total time=   6.6s\n",
            "[CV 4/5] END ...C=1000, gamma=0.001, kernel=rbf;, score=0.825 total time=   6.5s\n",
            "[CV 5/5] END ...C=1000, gamma=0.001, kernel=rbf;, score=0.813 total time=   6.6s\n",
            "[CV 1/5] END ..C=1000, gamma=0.0001, kernel=rbf;, score=0.796 total time=   5.3s\n",
            "[CV 2/5] END ..C=1000, gamma=0.0001, kernel=rbf;, score=0.781 total time=   5.3s\n",
            "[CV 3/5] END ..C=1000, gamma=0.0001, kernel=rbf;, score=0.787 total time=   5.5s\n",
            "[CV 4/5] END ..C=1000, gamma=0.0001, kernel=rbf;, score=0.789 total time=   5.4s\n",
            "[CV 5/5] END ..C=1000, gamma=0.0001, kernel=rbf;, score=0.781 total time=   5.3s\n"
          ]
        },
        {
          "output_type": "execute_result",
          "data": {
            "text/plain": [
              "GridSearchCV(estimator=SVC(),\n",
              "             param_grid={'C': [0.1, 1, 10, 100, 1000],\n",
              "                         'gamma': [1, 0.1, 0.01, 0.001, 0.0001],\n",
              "                         'kernel': ['rbf']},\n",
              "             verbose=3)"
            ]
          },
          "metadata": {},
          "execution_count": 39
        }
      ],
      "source": [
        "from sklearn.model_selection import GridSearchCV\n",
        "from sklearn.svm import SVC\n",
        "\n",
        "\n",
        "param_grid = {'C': [0.1, 1, 10, 100, 1000], \n",
        "              'gamma': [1, 0.1, 0.01, 0.001, 0.0001],\n",
        "              'kernel': ['rbf']} \n",
        "  \n",
        "grid = GridSearchCV(SVC(), param_grid, refit = True, verbose = 3)\n",
        "grid.fit(X_train, y_train)"
      ]
    },
    {
      "cell_type": "code",
      "execution_count": 40,
      "metadata": {
        "colab": {
          "base_uri": "https://localhost:8080/"
        },
        "id": "SGGpSONsocRu",
        "outputId": "097df71c-8796-4cd6-c0a3-a4c763fa6db7"
      },
      "outputs": [
        {
          "output_type": "stream",
          "name": "stdout",
          "text": [
            "{'C': 1000, 'gamma': 0.01, 'kernel': 'rbf'}\n",
            "SVC(C=1000, gamma=0.01)\n"
          ]
        }
      ],
      "source": [
        "print(grid.best_params_)\n",
        "\n",
        "print(grid.best_estimator_)"
      ]
    },
    {
      "cell_type": "code",
      "execution_count": 41,
      "metadata": {
        "colab": {
          "base_uri": "https://localhost:8080/"
        },
        "id": "_i-x-Ask0-8S",
        "outputId": "b1874551-e126-4e4c-ef00-aaae545e8653"
      },
      "outputs": [
        {
          "output_type": "execute_result",
          "data": {
            "text/plain": [
              "SVC(C=1000, gamma=0.01)"
            ]
          },
          "metadata": {},
          "execution_count": 41
        }
      ],
      "source": [
        "grid.best_estimator_"
      ]
    },
    {
      "cell_type": "code",
      "execution_count": 42,
      "metadata": {
        "id": "hoAUWJkp2XK2"
      },
      "outputs": [],
      "source": [
        "grid2 = GridSearchCV(estimator=SVC(C=10, gamma=0.1),\n",
        "             param_grid={'C': [10], 'gamma': [0.1], 'kernel': ['rbf']},\n",
        "             verbose=3)"
      ]
    },
    {
      "cell_type": "code",
      "execution_count": 43,
      "metadata": {
        "colab": {
          "base_uri": "https://localhost:8080/"
        },
        "id": "Nmek0eWS2sHn",
        "outputId": "6a870922-9ece-4359-d583-4e89b13a60a6"
      },
      "outputs": [
        {
          "output_type": "stream",
          "name": "stdout",
          "text": [
            "Fitting 5 folds for each of 1 candidates, totalling 5 fits\n",
            "[CV 1/5] END .......C=10, gamma=0.1, kernel=rbf;, score=0.826 total time=   8.1s\n",
            "[CV 2/5] END .......C=10, gamma=0.1, kernel=rbf;, score=0.828 total time=   8.0s\n",
            "[CV 3/5] END .......C=10, gamma=0.1, kernel=rbf;, score=0.830 total time=   5.5s\n",
            "[CV 4/5] END .......C=10, gamma=0.1, kernel=rbf;, score=0.838 total time=   6.3s\n",
            "[CV 5/5] END .......C=10, gamma=0.1, kernel=rbf;, score=0.823 total time=   5.4s\n"
          ]
        }
      ],
      "source": [
        "grid2.fit(X_train, y_train)\n",
        "grid_predictions = grid2.predict(X_test)"
      ]
    },
    {
      "cell_type": "code",
      "execution_count": 44,
      "metadata": {
        "colab": {
          "base_uri": "https://localhost:8080/"
        },
        "id": "ruiOupT_3lLm",
        "outputId": "f6fd9587-5d69-4506-f30c-660b44fbe95c"
      },
      "outputs": [
        {
          "output_type": "stream",
          "name": "stdout",
          "text": [
            "0.8436911487758946\n"
          ]
        }
      ],
      "source": [
        "prediction_grid2 = grid2.predict(X_test)\n",
        "acc_grid_svm = accuracy_score(y_test, prediction_grid2)\n",
        "print(acc_grid_svm)"
      ]
    },
    {
      "cell_type": "code",
      "execution_count": 45,
      "metadata": {
        "colab": {
          "base_uri": "https://localhost:8080/"
        },
        "id": "2HE-IhfC3ZOj",
        "outputId": "96998771-f631-4284-81fd-3b299803a115"
      },
      "outputs": [
        {
          "output_type": "stream",
          "name": "stdout",
          "text": [
            "              precision    recall  f1-score   support\n",
            "\n",
            "           0       0.86      0.83      0.84      1633\n",
            "           1       0.83      0.86      0.84      1553\n",
            "\n",
            "    accuracy                           0.84      3186\n",
            "   macro avg       0.84      0.84      0.84      3186\n",
            "weighted avg       0.84      0.84      0.84      3186\n",
            "\n"
          ]
        }
      ],
      "source": [
        "print(classification_report(y_test, grid_predictions))"
      ]
    },
    {
      "cell_type": "markdown",
      "metadata": {
        "id": "iqVQT2W64e5a"
      },
      "source": [
        "**Decision Tree**"
      ]
    },
    {
      "cell_type": "code",
      "execution_count": 46,
      "metadata": {
        "colab": {
          "base_uri": "https://localhost:8080/"
        },
        "id": "LmVyCP884gw6",
        "outputId": "6bee17e1-16ee-4e59-b4e3-b94c59a05bb9"
      },
      "outputs": [
        {
          "output_type": "stream",
          "name": "stdout",
          "text": [
            "              precision    recall  f1-score   support\n",
            "\n",
            "           0       0.82      0.77      0.79      1633\n",
            "           1       0.77      0.82      0.79      1553\n",
            "\n",
            "    accuracy                           0.79      3186\n",
            "   macro avg       0.79      0.79      0.79      3186\n",
            "weighted avg       0.79      0.79      0.79      3186\n",
            "\n"
          ]
        }
      ],
      "source": [
        "model3 =  DecisionTreeClassifier()\n",
        "model3.fit(X_train,y_train)\n",
        "prediction3 = model3.predict(X_test)\n",
        "print(classification_report(y_test, prediction3))\n"
      ]
    },
    {
      "cell_type": "code",
      "execution_count": 47,
      "metadata": {
        "colab": {
          "base_uri": "https://localhost:8080/"
        },
        "id": "e1lhzANX_U74",
        "outputId": "82b1df6b-e271-4a75-9f2f-3322e3cc04b4"
      },
      "outputs": [
        {
          "output_type": "stream",
          "name": "stdout",
          "text": [
            "              precision    recall  f1-score   support\n",
            "\n",
            "           0       0.82      0.77      0.79      1633\n",
            "           1       0.77      0.82      0.80      1553\n",
            "\n",
            "    accuracy                           0.80      3186\n",
            "   macro avg       0.80      0.80      0.80      3186\n",
            "weighted avg       0.80      0.80      0.80      3186\n",
            "\n"
          ]
        }
      ],
      "source": [
        "model3 =  DecisionTreeClassifier()\n",
        "model3.fit(X_train,y_train)\n",
        "prediction3 = model3.predict(X_test)\n",
        "print(classification_report(y_test, prediction3))\n"
      ]
    },
    {
      "cell_type": "code",
      "execution_count": 48,
      "metadata": {
        "colab": {
          "base_uri": "https://localhost:8080/"
        },
        "id": "k34wBd_3DkPW",
        "outputId": "c8cca57f-0179-4083-abdf-e48c3f62ca98"
      },
      "outputs": [
        {
          "output_type": "stream",
          "name": "stdout",
          "text": [
            "0.7953546767106089\n"
          ]
        }
      ],
      "source": [
        "acc_dt = accuracy_score(y_test, prediction3)\n",
        "acc_dt = accuracy_score(y_test, prediction3)\n",
        "recall_dt = recall_score(y_test, prediction3)\n",
        "precision_dt = precision_score(y_test, prediction3)\n",
        "f1_score_dt = f1_score(y_test, prediction3)  \n",
        "print(acc_dt)"
      ]
    },
    {
      "cell_type": "code",
      "execution_count": 49,
      "metadata": {
        "colab": {
          "base_uri": "https://localhost:8080/"
        },
        "id": "y5zrjA3qDpTD",
        "outputId": "27b29f56-f600-4463-c440-3450f0daa635"
      },
      "outputs": [
        {
          "output_type": "stream",
          "name": "stdout",
          "text": [
            "[[1261  372]\n",
            " [ 280 1273]]\n"
          ]
        }
      ],
      "source": [
        "print(confusion_matrix(y_test, prediction3))"
      ]
    },
    {
      "cell_type": "code",
      "execution_count": 50,
      "metadata": {
        "colab": {
          "base_uri": "https://localhost:8080/"
        },
        "id": "Sy1EOre0JIPa",
        "outputId": "fbd3b512-e9bf-4101-f461-5dec53c13131"
      },
      "outputs": [
        {
          "output_type": "stream",
          "name": "stdout",
          "text": [
            "0.7959511034684267\n"
          ]
        }
      ],
      "source": [
        "roc_dt = roc_auc_score(y_test, prediction3)\n",
        "print(roc_dt)\n"
      ]
    },
    {
      "cell_type": "markdown",
      "source": [
        "Decision Tree Tuning"
      ],
      "metadata": {
        "id": "qXA5v7eIZ4EK"
      }
    },
    {
      "cell_type": "code",
      "execution_count": 51,
      "metadata": {
        "colab": {
          "base_uri": "https://localhost:8080/"
        },
        "id": "_MEI5adv_4xS",
        "outputId": "0952ec33-34ba-42ca-83a1-66c569fa6886"
      },
      "outputs": [
        {
          "output_type": "stream",
          "name": "stdout",
          "text": [
            "Fitting 5 folds for each of 90 candidates, totalling 450 fits\n"
          ]
        },
        {
          "output_type": "execute_result",
          "data": {
            "text/plain": [
              "GridSearchCV(cv=5, estimator=DecisionTreeClassifier(random_state=0),\n",
              "             param_grid={'ccp_alpha': [0.1, 0.01, 0.001],\n",
              "                         'criterion': ['gini', 'entropy'],\n",
              "                         'max_depth': [5, 6, 7, 8, 9],\n",
              "                         'max_features': ['auto', 'sqrt', 'log2']},\n",
              "             verbose=True)"
            ]
          },
          "metadata": {},
          "execution_count": 51
        }
      ],
      "source": [
        "from sklearn.model_selection import GridSearchCV\n",
        "\n",
        "param_grid = {'max_features': ['auto', 'sqrt', 'log2'],\n",
        "              'ccp_alpha': [0.1, .01, .001],\n",
        "              'max_depth' : [5, 6, 7, 8, 9],\n",
        "              'criterion' :['gini', 'entropy']\n",
        "             }\n",
        "dt_model = DecisionTreeClassifier(random_state=0)\n",
        "search = GridSearchCV(estimator=dt_model, param_grid=param_grid, cv=5, verbose=True)\n",
        "search.fit(X_train, y_train)"
      ]
    },
    {
      "cell_type": "code",
      "execution_count": 52,
      "metadata": {
        "colab": {
          "base_uri": "https://localhost:8080/"
        },
        "id": "KZhcs8NyANP3",
        "outputId": "3df0344c-a83d-4c67-e657-0390e44ad26e"
      },
      "outputs": [
        {
          "output_type": "execute_result",
          "data": {
            "text/plain": [
              "DecisionTreeClassifier(ccp_alpha=0.001, max_depth=9, max_features='auto',\n",
              "                       random_state=0)"
            ]
          },
          "metadata": {},
          "execution_count": 52
        }
      ],
      "source": [
        "search.best_estimator_"
      ]
    },
    {
      "cell_type": "code",
      "execution_count": 53,
      "metadata": {
        "id": "J2SXJBMuAkSN"
      },
      "outputs": [],
      "source": [
        "dt_model = DecisionTreeClassifier(ccp_alpha=0.001, criterion='entropy', max_depth=8,\n",
        "                       max_features='auto', random_state=0)\n",
        "dt_model.fit(X_train, y_train)\n",
        "predict_dt = dt_model.predict(X_test)"
      ]
    },
    {
      "cell_type": "code",
      "execution_count": 54,
      "metadata": {
        "colab": {
          "base_uri": "https://localhost:8080/"
        },
        "id": "HhrgrTKtA8z8",
        "outputId": "d7448adc-93d0-4991-bc26-de146b69d6e1"
      },
      "outputs": [
        {
          "output_type": "stream",
          "name": "stdout",
          "text": [
            "              precision    recall  f1-score   support\n",
            "\n",
            "           0       0.79      0.80      0.80      1633\n",
            "           1       0.79      0.78      0.78      1553\n",
            "\n",
            "    accuracy                           0.79      3186\n",
            "   macro avg       0.79      0.79      0.79      3186\n",
            "weighted avg       0.79      0.79      0.79      3186\n",
            "\n"
          ]
        }
      ],
      "source": [
        "print(classification_report(y_test, predict_dt ))"
      ]
    },
    {
      "cell_type": "markdown",
      "metadata": {
        "id": "MB8jNl58p9Ta"
      },
      "source": [
        "Gradient Boosting Classifier"
      ]
    },
    {
      "cell_type": "code",
      "execution_count": 55,
      "metadata": {
        "colab": {
          "base_uri": "https://localhost:8080/"
        },
        "id": "Gb4gFil7p3U0",
        "outputId": "f215a10a-a2ee-4772-ce81-3c6f8475ed12"
      },
      "outputs": [
        {
          "output_type": "stream",
          "name": "stdout",
          "text": [
            "              precision    recall  f1-score   support\n",
            "\n",
            "           0       0.85      0.84      0.85      1633\n",
            "           1       0.84      0.85      0.84      1553\n",
            "\n",
            "    accuracy                           0.84      3186\n",
            "   macro avg       0.84      0.84      0.84      3186\n",
            "weighted avg       0.84      0.84      0.84      3186\n",
            "\n"
          ]
        }
      ],
      "source": [
        "model4 = GradientBoostingClassifier()\n",
        "model4.fit(X_train,y_train)\n",
        "prediction4 = model4.predict(X_test)\n",
        "print(classification_report(y_test, prediction4))"
      ]
    },
    {
      "cell_type": "code",
      "execution_count": 56,
      "metadata": {
        "colab": {
          "base_uri": "https://localhost:8080/"
        },
        "id": "pwh_ulvbp3Q9",
        "outputId": "8ca797a1-22ef-441f-a606-4ea017877d02"
      },
      "outputs": [
        {
          "output_type": "stream",
          "name": "stdout",
          "text": [
            "0.844632768361582\n"
          ]
        }
      ],
      "source": [
        "acc_gb = accuracy_score(y_test, prediction4)\n",
        "print(acc_gb)"
      ]
    },
    {
      "cell_type": "code",
      "execution_count": 57,
      "metadata": {
        "colab": {
          "base_uri": "https://localhost:8080/"
        },
        "id": "nG10HbpZgFHo",
        "outputId": "2edb75e3-5b91-4127-c3c9-99e80d5442e4"
      },
      "outputs": [
        {
          "output_type": "stream",
          "name": "stdout",
          "text": [
            "[[1373  260]\n",
            " [ 235 1318]]\n"
          ]
        }
      ],
      "source": [
        "print(confusion_matrix(y_test, prediction4))"
      ]
    },
    {
      "cell_type": "code",
      "execution_count": 58,
      "metadata": {
        "colab": {
          "base_uri": "https://localhost:8080/"
        },
        "id": "0De6ws-aKB67",
        "outputId": "a93cc77d-eafa-425f-be71-5c361daa51ae"
      },
      "outputs": [
        {
          "output_type": "stream",
          "name": "stdout",
          "text": [
            "0.8447319038393974\n"
          ]
        }
      ],
      "source": [
        "roc_gb = roc_auc_score(y_test, prediction4)\n",
        "print(roc_gb )"
      ]
    },
    {
      "cell_type": "markdown",
      "metadata": {
        "id": "Kx5CeWSvUGhs"
      },
      "source": [
        "###Using GridSearchCV to increase the accuracy in GradientBoosting"
      ]
    },
    {
      "cell_type": "code",
      "execution_count": 85,
      "metadata": {
        "id": "3UIdmHP65Skh"
      },
      "outputs": [],
      "source": [
        "parameters = {'learning_rate': [0.01,0.02,0.03],\n",
        "               'subsample'    : [0.9, 0.5, 0.2],\n",
        "                'n_estimators' : [100,500,1000],\n",
        "                'max_depth'    : [4,6,8]\n",
        "              }"
      ]
    },
    {
      "cell_type": "code",
      "execution_count": 60,
      "metadata": {
        "colab": {
          "base_uri": "https://localhost:8080/"
        },
        "id": "i_RHsYA05UZR",
        "outputId": "52aceb8d-2c23-4266-c7da-919dac72b256"
      },
      "outputs": [
        {
          "output_type": "execute_result",
          "data": {
            "text/plain": [
              "GridSearchCV(cv=2, estimator=GradientBoostingClassifier(), n_jobs=-1,\n",
              "             param_grid={'learning_rate': [0.01, 0.02, 0.03],\n",
              "                         'max_depth': [4, 6, 8],\n",
              "                         'n_estimators': [100, 500, 1000],\n",
              "                         'subsample': [0.9, 0.5, 0.2]})"
            ]
          },
          "metadata": {},
          "execution_count": 60
        }
      ],
      "source": [
        "grid_model4 = GridSearchCV(estimator=model4, param_grid = parameters, cv = 2, n_jobs=-1)\n",
        "grid_model4.fit(X_train, y_train)"
      ]
    },
    {
      "cell_type": "code",
      "execution_count": 61,
      "metadata": {
        "colab": {
          "base_uri": "https://localhost:8080/"
        },
        "id": "fKQDFGMZAMZZ",
        "outputId": "63bdedf8-0399-40d1-f69d-1cb4a77f2194"
      },
      "outputs": [
        {
          "output_type": "execute_result",
          "data": {
            "text/plain": [
              "GradientBoostingClassifier(learning_rate=0.03, max_depth=8, n_estimators=1000,\n",
              "                           subsample=0.5)"
            ]
          },
          "metadata": {},
          "execution_count": 61
        }
      ],
      "source": [
        "grid_model4.best_estimator_"
      ]
    },
    {
      "cell_type": "code",
      "execution_count": 62,
      "metadata": {
        "colab": {
          "base_uri": "https://localhost:8080/"
        },
        "id": "gvGWgHfvAM1_",
        "outputId": "befdb5e5-e014-4010-c6c5-9a248886c6be"
      },
      "outputs": [
        {
          "output_type": "execute_result",
          "data": {
            "text/plain": [
              "0.8524332810047096"
            ]
          },
          "metadata": {},
          "execution_count": 62
        }
      ],
      "source": [
        "grid_model4.best_score_"
      ]
    },
    {
      "cell_type": "code",
      "execution_count": 63,
      "metadata": {
        "colab": {
          "base_uri": "https://localhost:8080/"
        },
        "id": "Iy-ayrB_AT6u",
        "outputId": "580fbaf5-6da4-4d73-ebe6-1b89aeabab09"
      },
      "outputs": [
        {
          "output_type": "execute_result",
          "data": {
            "text/plain": [
              "{'learning_rate': 0.03, 'max_depth': 8, 'n_estimators': 1000, 'subsample': 0.5}"
            ]
          },
          "metadata": {},
          "execution_count": 63
        }
      ],
      "source": [
        "grid_model4.best_params_"
      ]
    },
    {
      "cell_type": "code",
      "execution_count": 64,
      "metadata": {
        "colab": {
          "base_uri": "https://localhost:8080/"
        },
        "id": "G0VGb58354zS",
        "outputId": "646c22ac-ed14-4dda-e692-2c11d7553e76"
      },
      "outputs": [
        {
          "output_type": "stream",
          "name": "stdout",
          "text": [
            "              precision    recall  f1-score   support\n",
            "\n",
            "           0       0.90      0.87      0.88      1633\n",
            "           1       0.87      0.90      0.88      1553\n",
            "\n",
            "    accuracy                           0.88      3186\n",
            "   macro avg       0.88      0.88      0.88      3186\n",
            "weighted avg       0.88      0.88      0.88      3186\n",
            "\n"
          ]
        }
      ],
      "source": [
        "model4_grid = GradientBoostingClassifier(learning_rate=0.03, max_depth=8, n_estimators= 1000, subsample= 0.9)\n",
        "model4_grid.fit(X_train,y_train)\n",
        "prediction4_grid = model4_grid.predict(X_test)\n",
        "print(classification_report(y_test, prediction4_grid))"
      ]
    },
    {
      "cell_type": "code",
      "execution_count": 65,
      "metadata": {
        "colab": {
          "base_uri": "https://localhost:8080/"
        },
        "id": "tP8MZtXjEfRX",
        "outputId": "4f64b830-3297-4136-cfa3-3e39880447c3"
      },
      "outputs": [
        {
          "output_type": "stream",
          "name": "stdout",
          "text": [
            "0.8838669177652229\n"
          ]
        }
      ],
      "source": [
        "acc_gb_grid = accuracy_score(y_test, prediction4_grid)\n",
        "recall_gb_grid = recall_score(y_test, prediction4_grid)\n",
        "precision_gb_grid = precision_score(y_test, prediction4_grid)\n",
        "f1_score_gb_grid = f1_score(y_test, prediction4_grid)  \n",
        "print(acc_gb_grid)"
      ]
    },
    {
      "cell_type": "code",
      "source": [
        "roc_gb_grid = roc_auc_score(y_test, prediction4_grid)\n",
        "print(roc_gb_grid )"
      ],
      "metadata": {
        "colab": {
          "base_uri": "https://localhost:8080/"
        },
        "id": "mYj8nX7XfRfy",
        "outputId": "aa245b4c-acc2-47fc-af5e-86c31f184547"
      },
      "execution_count": 66,
      "outputs": [
        {
          "output_type": "stream",
          "name": "stdout",
          "text": [
            "0.8842352809429155\n"
          ]
        }
      ]
    },
    {
      "cell_type": "markdown",
      "metadata": {
        "id": "U6Ay0dVJC313"
      },
      "source": [
        "KNeighbors Classifier"
      ]
    },
    {
      "cell_type": "code",
      "execution_count": 67,
      "metadata": {
        "colab": {
          "base_uri": "https://localhost:8080/"
        },
        "id": "jdTEJ98ep3G9",
        "outputId": "25d29982-40d0-42fd-f954-1130190dcd41"
      },
      "outputs": [
        {
          "output_type": "stream",
          "name": "stdout",
          "text": [
            "              precision    recall  f1-score   support\n",
            "\n",
            "           0       0.83      0.84      0.83      1633\n",
            "           1       0.83      0.81      0.82      1553\n",
            "\n",
            "    accuracy                           0.83      3186\n",
            "   macro avg       0.83      0.83      0.83      3186\n",
            "weighted avg       0.83      0.83      0.83      3186\n",
            "\n"
          ]
        }
      ],
      "source": [
        "model5 = KNeighborsClassifier(n_neighbors=10)\n",
        "model5.fit(X_train,y_train)\n",
        "prediction5 = model5.predict(X_test)\n",
        "print(classification_report(y_test, prediction5))"
      ]
    },
    {
      "cell_type": "code",
      "execution_count": 68,
      "metadata": {
        "colab": {
          "base_uri": "https://localhost:8080/"
        },
        "id": "zXl0JzbjrEi-",
        "outputId": "c2819062-051a-48cb-e403-1397075a4f37"
      },
      "outputs": [
        {
          "output_type": "stream",
          "name": "stdout",
          "text": [
            "0.8267419962335216\n"
          ]
        }
      ],
      "source": [
        "acc_kneighbors = accuracy_score(y_test, prediction5)\n",
        "recall_kneighbors = recall_score(y_test, prediction5)\n",
        "precision_kneighbors = precision_score(y_test, prediction5)\n",
        "f1_score_kneighbors = f1_score(y_test, prediction5)  \n",
        "print(acc_kneighbors)"
      ]
    },
    {
      "cell_type": "code",
      "execution_count": 69,
      "metadata": {
        "colab": {
          "base_uri": "https://localhost:8080/"
        },
        "id": "69g0vu6ugH3k",
        "outputId": "88de7a7d-25c9-4227-f357-33c465751336"
      },
      "outputs": [
        {
          "output_type": "stream",
          "name": "stdout",
          "text": [
            "[[1372  261]\n",
            " [ 291 1262]]\n"
          ]
        }
      ],
      "source": [
        "print(confusion_matrix(y_test, prediction5))"
      ]
    },
    {
      "cell_type": "code",
      "execution_count": 70,
      "metadata": {
        "colab": {
          "base_uri": "https://localhost:8080/"
        },
        "id": "1mCBMmmIKHur",
        "outputId": "bc19469a-ddad-4059-b5c7-0f51b7ac9e9e"
      },
      "outputs": [
        {
          "output_type": "stream",
          "name": "stdout",
          "text": [
            "0.8263960988135481\n"
          ]
        }
      ],
      "source": [
        "roc_knn = (roc_auc_score(y_test, prediction5))\n",
        "print(roc_knn)"
      ]
    },
    {
      "cell_type": "markdown",
      "metadata": {
        "id": "Am_zEXZLrSUZ"
      },
      "source": [
        "RandomForestClassifier\n"
      ]
    },
    {
      "cell_type": "code",
      "execution_count": 71,
      "metadata": {
        "colab": {
          "base_uri": "https://localhost:8080/"
        },
        "id": "tCpFa5NtrIBm",
        "outputId": "17c74251-afc2-4f54-e2d3-3667d66965b0"
      },
      "outputs": [
        {
          "output_type": "stream",
          "name": "stdout",
          "text": [
            "              precision    recall  f1-score   support\n",
            "\n",
            "           0       0.87      0.84      0.86      1633\n",
            "           1       0.84      0.87      0.86      1553\n",
            "\n",
            "    accuracy                           0.86      3186\n",
            "   macro avg       0.86      0.86      0.86      3186\n",
            "weighted avg       0.86      0.86      0.86      3186\n",
            "\n"
          ]
        }
      ],
      "source": [
        "model6 = RandomForestClassifier(n_estimators=50, max_depth=16, random_state=55, n_jobs=-1)\n",
        "model6.fit(X_train,y_train)\n",
        "prediction6 = model6.predict(X_test)\n",
        "print(classification_report(y_test, prediction6))"
      ]
    },
    {
      "cell_type": "code",
      "execution_count": 72,
      "metadata": {
        "id": "egekqhjkrekW"
      },
      "outputs": [],
      "source": [
        "acc_rf = accuracy_score(y_test, prediction6)\n",
        "recall_rf = recall_score(y_test, prediction6)\n",
        "precision_rf = precision_score(y_test, prediction6)\n",
        "f1_score_rf = f1_score(y_test, prediction6)  \n"
      ]
    },
    {
      "cell_type": "code",
      "execution_count": 73,
      "metadata": {
        "colab": {
          "base_uri": "https://localhost:8080/"
        },
        "id": "SztKf6RmgKE8",
        "outputId": "fbdb9e49-cfee-4e79-c1c9-7e1ddcc693dc"
      },
      "outputs": [
        {
          "output_type": "stream",
          "name": "stdout",
          "text": [
            "[[1378  255]\n",
            " [ 200 1353]]\n"
          ]
        }
      ],
      "source": [
        "print(confusion_matrix(y_test, prediction6))"
      ]
    },
    {
      "cell_type": "code",
      "execution_count": 74,
      "metadata": {
        "colab": {
          "base_uri": "https://localhost:8080/"
        },
        "id": "PctraV5n-hvD",
        "outputId": "3b52efdd-52b2-4202-fd8b-539f32a81658"
      },
      "outputs": [
        {
          "output_type": "stream",
          "name": "stdout",
          "text": [
            "              precision    recall  f1-score   support\n",
            "\n",
            "           0       0.87      0.84      0.86      1633\n",
            "           1       0.84      0.87      0.86      1553\n",
            "\n",
            "    accuracy                           0.86      3186\n",
            "   macro avg       0.86      0.86      0.86      3186\n",
            "weighted avg       0.86      0.86      0.86      3186\n",
            "\n"
          ]
        }
      ],
      "source": [
        "prediction6 = model6.predict(X_test)\n",
        "print(classification_report(y_test, prediction6))"
      ]
    },
    {
      "cell_type": "code",
      "execution_count": 75,
      "metadata": {
        "colab": {
          "base_uri": "https://localhost:8080/"
        },
        "id": "JIGQFcvnKheW",
        "outputId": "41066a09-5e89-4cd8-dafd-418b310d561e"
      },
      "outputs": [
        {
          "output_type": "stream",
          "name": "stdout",
          "text": [
            "0.8575313410742457\n"
          ]
        }
      ],
      "source": [
        "roc_rf = roc_auc_score(y_test, prediction6)\n",
        "print(roc_rf)"
      ]
    },
    {
      "cell_type": "code",
      "execution_count": 76,
      "metadata": {
        "id": "vNaxgWZYEUK1"
      },
      "outputs": [],
      "source": [
        "rfc=RandomForestClassifier(random_state=45)\n",
        "param_grid = { 'n_estimators': [100, 100],\n",
        "               'max_features': ['auto', 'sqrt', 'log2'],\n",
        "               'max_depth' : [4,5,6,7,8],\n",
        "                'criterion' : ['gini', 'entropy']\n",
        "              }"
      ]
    },
    {
      "cell_type": "code",
      "execution_count": 77,
      "metadata": {
        "colab": {
          "base_uri": "https://localhost:8080/"
        },
        "id": "lqkKtAOtEZ8v",
        "outputId": "c117e7db-a17f-4248-8b79-ab4b97671113"
      },
      "outputs": [
        {
          "output_type": "execute_result",
          "data": {
            "text/plain": [
              "GridSearchCV(cv=5, estimator=RandomForestClassifier(random_state=45),\n",
              "             param_grid={'criterion': ['gini', 'entropy'],\n",
              "                         'max_depth': [4, 5, 6, 7, 8],\n",
              "                         'max_features': ['auto', 'sqrt', 'log2'],\n",
              "                         'n_estimators': [100, 100]})"
            ]
          },
          "metadata": {},
          "execution_count": 77
        }
      ],
      "source": [
        "rfc_grid = GridSearchCV(estimator=rfc, param_grid=param_grid, cv=5)\n",
        "rfc_grid.fit(X_train, y_train)"
      ]
    },
    {
      "cell_type": "code",
      "execution_count": 78,
      "metadata": {
        "colab": {
          "base_uri": "https://localhost:8080/"
        },
        "id": "F1matc4pHMLF",
        "outputId": "8387fb81-271f-4bf6-bf2b-b195bc7621c1"
      },
      "outputs": [
        {
          "output_type": "execute_result",
          "data": {
            "text/plain": [
              "{'criterion': 'gini',\n",
              " 'max_depth': 8,\n",
              " 'max_features': 'auto',\n",
              " 'n_estimators': 100}"
            ]
          },
          "metadata": {},
          "execution_count": 78
        }
      ],
      "source": [
        "rfc_grid.best_params_"
      ]
    },
    {
      "cell_type": "code",
      "execution_count": 79,
      "metadata": {
        "id": "107AfqQ9Hu3Q"
      },
      "outputs": [],
      "source": [
        "rfc = RandomForestClassifier(random_state=55, max_features='auto', n_estimators=100, max_depth=8, criterion='gini')"
      ]
    },
    {
      "cell_type": "code",
      "execution_count": 80,
      "metadata": {
        "colab": {
          "base_uri": "https://localhost:8080/"
        },
        "id": "8G_iIdv1IQb7",
        "outputId": "21a93a4c-8c3e-4230-c8fd-2233d247780c"
      },
      "outputs": [
        {
          "output_type": "execute_result",
          "data": {
            "text/plain": [
              "RandomForestClassifier(max_depth=8, random_state=55)"
            ]
          },
          "metadata": {},
          "execution_count": 80
        }
      ],
      "source": [
        "rfc.fit(X_train, y_train)"
      ]
    },
    {
      "cell_type": "code",
      "execution_count": 81,
      "metadata": {
        "colab": {
          "base_uri": "https://localhost:8080/"
        },
        "id": "DPl9jI7hITB_",
        "outputId": "7c2e6c32-cff4-4dfc-c93e-13639b8e71c3"
      },
      "outputs": [
        {
          "output_type": "stream",
          "name": "stdout",
          "text": [
            "              precision    recall  f1-score   support\n",
            "\n",
            "           0       0.84      0.84      0.84      1633\n",
            "           1       0.83      0.83      0.83      1553\n",
            "\n",
            "    accuracy                           0.83      3186\n",
            "   macro avg       0.83      0.83      0.83      3186\n",
            "weighted avg       0.83      0.83      0.83      3186\n",
            "\n"
          ]
        }
      ],
      "source": [
        "pred_rfc_grid=rfc.predict(X_test)\n",
        "print(classification_report(y_test, pred_rfc_grid))"
      ]
    },
    {
      "cell_type": "code",
      "execution_count": 84,
      "metadata": {
        "colab": {
          "base_uri": "https://localhost:8080/",
          "height": 237
        },
        "id": "KZcWN3x12gD4",
        "outputId": "a9884a95-f68c-4d35-9416-245c350ab065"
      },
      "outputs": [
        {
          "output_type": "execute_result",
          "data": {
            "text/plain": [
              "                     accuracy    recall  precision  f1_score\n",
              "Logistic Regression  0.784369  0.797167   0.768944  0.782801\n",
              "SVM                  0.841808  0.848036   0.830915  0.839388\n",
              "Decision Tree        0.795355  0.819704   0.773860  0.796123\n",
              "GradientBoosting     0.883867  0.898905   0.867620  0.882985\n",
              "KNeighbors           0.826742  0.812621   0.828628  0.820546\n",
              "Random Forest        0.857188  0.871217   0.841418  0.856058"
            ],
            "text/html": [
              "\n",
              "  <div id=\"df-34f42a3a-df0f-446c-b3f2-cfac112a9dab\">\n",
              "    <div class=\"colab-df-container\">\n",
              "      <div>\n",
              "<style scoped>\n",
              "    .dataframe tbody tr th:only-of-type {\n",
              "        vertical-align: middle;\n",
              "    }\n",
              "\n",
              "    .dataframe tbody tr th {\n",
              "        vertical-align: top;\n",
              "    }\n",
              "\n",
              "    .dataframe thead th {\n",
              "        text-align: right;\n",
              "    }\n",
              "</style>\n",
              "<table border=\"1\" class=\"dataframe\">\n",
              "  <thead>\n",
              "    <tr style=\"text-align: right;\">\n",
              "      <th></th>\n",
              "      <th>accuracy</th>\n",
              "      <th>recall</th>\n",
              "      <th>precision</th>\n",
              "      <th>f1_score</th>\n",
              "    </tr>\n",
              "  </thead>\n",
              "  <tbody>\n",
              "    <tr>\n",
              "      <th>Logistic Regression</th>\n",
              "      <td>0.784369</td>\n",
              "      <td>0.797167</td>\n",
              "      <td>0.768944</td>\n",
              "      <td>0.782801</td>\n",
              "    </tr>\n",
              "    <tr>\n",
              "      <th>SVM</th>\n",
              "      <td>0.841808</td>\n",
              "      <td>0.848036</td>\n",
              "      <td>0.830915</td>\n",
              "      <td>0.839388</td>\n",
              "    </tr>\n",
              "    <tr>\n",
              "      <th>Decision Tree</th>\n",
              "      <td>0.795355</td>\n",
              "      <td>0.819704</td>\n",
              "      <td>0.773860</td>\n",
              "      <td>0.796123</td>\n",
              "    </tr>\n",
              "    <tr>\n",
              "      <th>GradientBoosting</th>\n",
              "      <td>0.883867</td>\n",
              "      <td>0.898905</td>\n",
              "      <td>0.867620</td>\n",
              "      <td>0.882985</td>\n",
              "    </tr>\n",
              "    <tr>\n",
              "      <th>KNeighbors</th>\n",
              "      <td>0.826742</td>\n",
              "      <td>0.812621</td>\n",
              "      <td>0.828628</td>\n",
              "      <td>0.820546</td>\n",
              "    </tr>\n",
              "    <tr>\n",
              "      <th>Random Forest</th>\n",
              "      <td>0.857188</td>\n",
              "      <td>0.871217</td>\n",
              "      <td>0.841418</td>\n",
              "      <td>0.856058</td>\n",
              "    </tr>\n",
              "  </tbody>\n",
              "</table>\n",
              "</div>\n",
              "      <button class=\"colab-df-convert\" onclick=\"convertToInteractive('df-34f42a3a-df0f-446c-b3f2-cfac112a9dab')\"\n",
              "              title=\"Convert this dataframe to an interactive table.\"\n",
              "              style=\"display:none;\">\n",
              "        \n",
              "  <svg xmlns=\"http://www.w3.org/2000/svg\" height=\"24px\"viewBox=\"0 0 24 24\"\n",
              "       width=\"24px\">\n",
              "    <path d=\"M0 0h24v24H0V0z\" fill=\"none\"/>\n",
              "    <path d=\"M18.56 5.44l.94 2.06.94-2.06 2.06-.94-2.06-.94-.94-2.06-.94 2.06-2.06.94zm-11 1L8.5 8.5l.94-2.06 2.06-.94-2.06-.94L8.5 2.5l-.94 2.06-2.06.94zm10 10l.94 2.06.94-2.06 2.06-.94-2.06-.94-.94-2.06-.94 2.06-2.06.94z\"/><path d=\"M17.41 7.96l-1.37-1.37c-.4-.4-.92-.59-1.43-.59-.52 0-1.04.2-1.43.59L10.3 9.45l-7.72 7.72c-.78.78-.78 2.05 0 2.83L4 21.41c.39.39.9.59 1.41.59.51 0 1.02-.2 1.41-.59l7.78-7.78 2.81-2.81c.8-.78.8-2.07 0-2.86zM5.41 20L4 18.59l7.72-7.72 1.47 1.35L5.41 20z\"/>\n",
              "  </svg>\n",
              "      </button>\n",
              "      \n",
              "  <style>\n",
              "    .colab-df-container {\n",
              "      display:flex;\n",
              "      flex-wrap:wrap;\n",
              "      gap: 12px;\n",
              "    }\n",
              "\n",
              "    .colab-df-convert {\n",
              "      background-color: #E8F0FE;\n",
              "      border: none;\n",
              "      border-radius: 50%;\n",
              "      cursor: pointer;\n",
              "      display: none;\n",
              "      fill: #1967D2;\n",
              "      height: 32px;\n",
              "      padding: 0 0 0 0;\n",
              "      width: 32px;\n",
              "    }\n",
              "\n",
              "    .colab-df-convert:hover {\n",
              "      background-color: #E2EBFA;\n",
              "      box-shadow: 0px 1px 2px rgba(60, 64, 67, 0.3), 0px 1px 3px 1px rgba(60, 64, 67, 0.15);\n",
              "      fill: #174EA6;\n",
              "    }\n",
              "\n",
              "    [theme=dark] .colab-df-convert {\n",
              "      background-color: #3B4455;\n",
              "      fill: #D2E3FC;\n",
              "    }\n",
              "\n",
              "    [theme=dark] .colab-df-convert:hover {\n",
              "      background-color: #434B5C;\n",
              "      box-shadow: 0px 1px 3px 1px rgba(0, 0, 0, 0.15);\n",
              "      filter: drop-shadow(0px 1px 2px rgba(0, 0, 0, 0.3));\n",
              "      fill: #FFFFFF;\n",
              "    }\n",
              "  </style>\n",
              "\n",
              "      <script>\n",
              "        const buttonEl =\n",
              "          document.querySelector('#df-34f42a3a-df0f-446c-b3f2-cfac112a9dab button.colab-df-convert');\n",
              "        buttonEl.style.display =\n",
              "          google.colab.kernel.accessAllowed ? 'block' : 'none';\n",
              "\n",
              "        async function convertToInteractive(key) {\n",
              "          const element = document.querySelector('#df-34f42a3a-df0f-446c-b3f2-cfac112a9dab');\n",
              "          const dataTable =\n",
              "            await google.colab.kernel.invokeFunction('convertToInteractive',\n",
              "                                                     [key], {});\n",
              "          if (!dataTable) return;\n",
              "\n",
              "          const docLinkHtml = 'Like what you see? Visit the ' +\n",
              "            '<a target=\"_blank\" href=https://colab.research.google.com/notebooks/data_table.ipynb>data table notebook</a>'\n",
              "            + ' to learn more about interactive tables.';\n",
              "          element.innerHTML = '';\n",
              "          dataTable['output_type'] = 'display_data';\n",
              "          await google.colab.output.renderOutput(dataTable, element);\n",
              "          const docLink = document.createElement('div');\n",
              "          docLink.innerHTML = docLinkHtml;\n",
              "          element.appendChild(docLink);\n",
              "        }\n",
              "      </script>\n",
              "    </div>\n",
              "  </div>\n",
              "  "
            ]
          },
          "metadata": {},
          "execution_count": 84
        }
      ],
      "source": [
        "models = ['Logistic Regression', 'SVM', 'Decision Tree', 'GradientBoosting', 'KNeighbors', 'Random Forest']\n",
        "accuracy = [acc_lr, acc_svm, acc_dt, acc_gb_grid, acc_kneighbors, acc_rf]\n",
        "recall = [recall_lr, recall_svm, recall_dt, recall_gb_grid, recall_kneighbors, recall_rf]\n",
        "precision = [precision_lr, precision_svm, precision_dt, precision_gb_grid, precision_kneighbors, precision_rf]\n",
        "f1_score = [f1_score_lr, f1_score_svm, f1_score_dt, f1_score_gb_grid, f1_score_kneighbors, f1_score_rf]\n",
        "roc_score = [roc_lr, roc_svm, roc_dt, roc_gb_grid, roc_knn, roc_rf]\n",
        "\n",
        "accuarcy_compare = {'accuracy': accuracy, 'recall': recall, 'precision': precision, 'f1_score': f1_score}\n",
        "df_metrics = pd.DataFrame(accuarcy_compare, index=models)\n",
        "df_metrics"
      ]
    },
    {
      "cell_type": "markdown",
      "source": [
        "Summary : GradientBoosting have the highest accuracy score (88%). "
      ],
      "metadata": {
        "id": "FVEbllhKglyq"
      }
    }
  ],
  "metadata": {
    "colab": {
      "collapsed_sections": [],
      "provenance": []
    },
    "kernelspec": {
      "display_name": "Python 3",
      "name": "python3"
    },
    "language_info": {
      "name": "python"
    }
  },
  "nbformat": 4,
  "nbformat_minor": 0
}